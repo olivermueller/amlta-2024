{
  "cells": [
    {
      "cell_type": "markdown",
      "metadata": {
        "id": "DAu-kSJo_wBW"
      },
      "source": [
        "# <font color=\"#003660\">Applied Machine Learning for Text Analysis (M.184.5331)</font>\n"
      ]
    },
    {
      "cell_type": "markdown",
      "metadata": {
        "id": "BkW_65l0_wBX"
      },
      "source": [
        "# <font color=\"#003660\">Session 10: How to Evaluate LLMs?</font>"
      ]
    },
    {
      "cell_type": "markdown",
      "metadata": {
        "id": "O2TLZqw4_wBX"
      },
      "source": [
        "# <font color=\"#003660\">Evaluate using Metrics</font>\n",
        "\n",
        "<center><br><img width=256 src=\"https://raw.githubusercontent.com/olivermueller/aml4ta-2021/main/resources/dag.png\"/><br></center>\n",
        "\n",
        "<p>\n",
        "\n",
        "<div>\n",
        "    <font color=\"#085986\"><b>By the end of this lesson, you ...</b><br><br>\n",
        "        ... will know how to evaluate LLMs using Metrics. <br>\n",
        "        ... will know how to apply exact match to a JSON-Problem.\n",
        "    </font>\n",
        "</div>\n",
        "</p>"
      ]
    },
    {
      "cell_type": "markdown",
      "metadata": {
        "id": "8jCXZI28fEN0"
      },
      "source": [
        "The following content is heavily inspired by the following excellent sources:\n",
        "\n",
        "* [LangChain Academy](https://academy.langchain.com/)\n",
        "* [LangChain Docs (Python)](https://python.langchain.com/)\n",
        "* [LangSmith Evaluation](https://docs.smith.langchain.com/evaluation)\n",
        "* [Chang et al. (2024)](https://doi.org/10.1145/3641289)"
      ]
    },
    {
      "cell_type": "markdown",
      "source": [
        "This Notebook is based on LangSmith Evaluation, but we refrain from using LangSmith, because it is an API driven online-tool."
      ],
      "metadata": {
        "id": "zd2NMOMGvfn6"
      }
    },
    {
      "cell_type": "markdown",
      "source": [
        "# Setting up LangChain-Ollama\n",
        "\n",
        "First we Setup Langchain-Ollama, which will help us to generate the structured outputs."
      ],
      "metadata": {
        "id": "7S6GvtSrv0Nn"
      }
    },
    {
      "cell_type": "code",
      "source": [
        "!sudo apt install pciutils\n",
        "!pip install -U ollama langchain langchain-community langchain-ollama colab-xterm"
      ],
      "metadata": {
        "colab": {
          "base_uri": "https://localhost:8080/"
        },
        "id": "RftYd3ApKd6Z",
        "outputId": "be3a5fb8-ec7a-497a-cf94-1475e5298200"
      },
      "execution_count": 83,
      "outputs": [
        {
          "output_type": "stream",
          "name": "stdout",
          "text": [
            "Reading package lists... Done\n",
            "Building dependency tree... Done\n",
            "Reading state information... Done\n",
            "pciutils is already the newest version (1:3.7.0-6).\n",
            "0 upgraded, 0 newly installed, 0 to remove and 49 not upgraded.\n",
            "Requirement already satisfied: ollama in /usr/local/lib/python3.11/dist-packages (0.4.6)\n",
            "Requirement already satisfied: langchain in /usr/local/lib/python3.11/dist-packages (0.3.15)\n",
            "Requirement already satisfied: langchain-community in /usr/local/lib/python3.11/dist-packages (0.3.15)\n",
            "Requirement already satisfied: langchain-ollama in /usr/local/lib/python3.11/dist-packages (0.2.2)\n",
            "Requirement already satisfied: colab-xterm in /usr/local/lib/python3.11/dist-packages (0.2.0)\n",
            "Requirement already satisfied: httpx<0.28.0,>=0.27.0 in /usr/local/lib/python3.11/dist-packages (from ollama) (0.27.2)\n",
            "Requirement already satisfied: pydantic<3.0.0,>=2.9.0 in /usr/local/lib/python3.11/dist-packages (from ollama) (2.10.5)\n",
            "Requirement already satisfied: PyYAML>=5.3 in /usr/local/lib/python3.11/dist-packages (from langchain) (6.0.2)\n",
            "Requirement already satisfied: SQLAlchemy<3,>=1.4 in /usr/local/lib/python3.11/dist-packages (from langchain) (2.0.37)\n",
            "Requirement already satisfied: aiohttp<4.0.0,>=3.8.3 in /usr/local/lib/python3.11/dist-packages (from langchain) (3.11.11)\n",
            "Requirement already satisfied: langchain-core<0.4.0,>=0.3.31 in /usr/local/lib/python3.11/dist-packages (from langchain) (0.3.31)\n",
            "Requirement already satisfied: langchain-text-splitters<0.4.0,>=0.3.3 in /usr/local/lib/python3.11/dist-packages (from langchain) (0.3.5)\n",
            "Requirement already satisfied: langsmith<0.4,>=0.1.17 in /usr/local/lib/python3.11/dist-packages (from langchain) (0.2.10)\n",
            "Requirement already satisfied: numpy<2,>=1.22.4 in /usr/local/lib/python3.11/dist-packages (from langchain) (1.26.4)\n",
            "Requirement already satisfied: requests<3,>=2 in /usr/local/lib/python3.11/dist-packages (from langchain) (2.32.3)\n",
            "Requirement already satisfied: tenacity!=8.4.0,<10,>=8.1.0 in /usr/local/lib/python3.11/dist-packages (from langchain) (9.0.0)\n",
            "Requirement already satisfied: dataclasses-json<0.7,>=0.5.7 in /usr/local/lib/python3.11/dist-packages (from langchain-community) (0.6.7)\n",
            "Requirement already satisfied: httpx-sse<0.5.0,>=0.4.0 in /usr/local/lib/python3.11/dist-packages (from langchain-community) (0.4.0)\n",
            "Requirement already satisfied: pydantic-settings<3.0.0,>=2.4.0 in /usr/local/lib/python3.11/dist-packages (from langchain-community) (2.7.1)\n",
            "Requirement already satisfied: ptyprocess~=0.7.0 in /usr/local/lib/python3.11/dist-packages (from colab-xterm) (0.7.0)\n",
            "Requirement already satisfied: tornado>5.1 in /usr/local/lib/python3.11/dist-packages (from colab-xterm) (6.3.3)\n",
            "Requirement already satisfied: aiohappyeyeballs>=2.3.0 in /usr/local/lib/python3.11/dist-packages (from aiohttp<4.0.0,>=3.8.3->langchain) (2.4.4)\n",
            "Requirement already satisfied: aiosignal>=1.1.2 in /usr/local/lib/python3.11/dist-packages (from aiohttp<4.0.0,>=3.8.3->langchain) (1.3.2)\n",
            "Requirement already satisfied: attrs>=17.3.0 in /usr/local/lib/python3.11/dist-packages (from aiohttp<4.0.0,>=3.8.3->langchain) (24.3.0)\n",
            "Requirement already satisfied: frozenlist>=1.1.1 in /usr/local/lib/python3.11/dist-packages (from aiohttp<4.0.0,>=3.8.3->langchain) (1.5.0)\n",
            "Requirement already satisfied: multidict<7.0,>=4.5 in /usr/local/lib/python3.11/dist-packages (from aiohttp<4.0.0,>=3.8.3->langchain) (6.1.0)\n",
            "Requirement already satisfied: propcache>=0.2.0 in /usr/local/lib/python3.11/dist-packages (from aiohttp<4.0.0,>=3.8.3->langchain) (0.2.1)\n",
            "Requirement already satisfied: yarl<2.0,>=1.17.0 in /usr/local/lib/python3.11/dist-packages (from aiohttp<4.0.0,>=3.8.3->langchain) (1.18.3)\n",
            "Requirement already satisfied: marshmallow<4.0.0,>=3.18.0 in /usr/local/lib/python3.11/dist-packages (from dataclasses-json<0.7,>=0.5.7->langchain-community) (3.25.1)\n",
            "Requirement already satisfied: typing-inspect<1,>=0.4.0 in /usr/local/lib/python3.11/dist-packages (from dataclasses-json<0.7,>=0.5.7->langchain-community) (0.9.0)\n",
            "Requirement already satisfied: anyio in /usr/local/lib/python3.11/dist-packages (from httpx<0.28.0,>=0.27.0->ollama) (3.7.1)\n",
            "Requirement already satisfied: certifi in /usr/local/lib/python3.11/dist-packages (from httpx<0.28.0,>=0.27.0->ollama) (2024.12.14)\n",
            "Requirement already satisfied: httpcore==1.* in /usr/local/lib/python3.11/dist-packages (from httpx<0.28.0,>=0.27.0->ollama) (1.0.7)\n",
            "Requirement already satisfied: idna in /usr/local/lib/python3.11/dist-packages (from httpx<0.28.0,>=0.27.0->ollama) (3.10)\n",
            "Requirement already satisfied: sniffio in /usr/local/lib/python3.11/dist-packages (from httpx<0.28.0,>=0.27.0->ollama) (1.3.1)\n",
            "Requirement already satisfied: h11<0.15,>=0.13 in /usr/local/lib/python3.11/dist-packages (from httpcore==1.*->httpx<0.28.0,>=0.27.0->ollama) (0.14.0)\n",
            "Requirement already satisfied: jsonpatch<2.0,>=1.33 in /usr/local/lib/python3.11/dist-packages (from langchain-core<0.4.0,>=0.3.31->langchain) (1.33)\n",
            "Requirement already satisfied: packaging<25,>=23.2 in /usr/local/lib/python3.11/dist-packages (from langchain-core<0.4.0,>=0.3.31->langchain) (24.2)\n",
            "Requirement already satisfied: typing-extensions>=4.7 in /usr/local/lib/python3.11/dist-packages (from langchain-core<0.4.0,>=0.3.31->langchain) (4.12.2)\n",
            "Requirement already satisfied: orjson<4.0.0,>=3.9.14 in /usr/local/lib/python3.11/dist-packages (from langsmith<0.4,>=0.1.17->langchain) (3.10.14)\n",
            "Requirement already satisfied: requests-toolbelt<2.0.0,>=1.0.0 in /usr/local/lib/python3.11/dist-packages (from langsmith<0.4,>=0.1.17->langchain) (1.0.0)\n",
            "Requirement already satisfied: annotated-types>=0.6.0 in /usr/local/lib/python3.11/dist-packages (from pydantic<3.0.0,>=2.9.0->ollama) (0.7.0)\n",
            "Requirement already satisfied: pydantic-core==2.27.2 in /usr/local/lib/python3.11/dist-packages (from pydantic<3.0.0,>=2.9.0->ollama) (2.27.2)\n",
            "Requirement already satisfied: python-dotenv>=0.21.0 in /usr/local/lib/python3.11/dist-packages (from pydantic-settings<3.0.0,>=2.4.0->langchain-community) (1.0.1)\n",
            "Requirement already satisfied: charset-normalizer<4,>=2 in /usr/local/lib/python3.11/dist-packages (from requests<3,>=2->langchain) (3.4.1)\n",
            "Requirement already satisfied: urllib3<3,>=1.21.1 in /usr/local/lib/python3.11/dist-packages (from requests<3,>=2->langchain) (2.3.0)\n",
            "Requirement already satisfied: greenlet!=0.4.17 in /usr/local/lib/python3.11/dist-packages (from SQLAlchemy<3,>=1.4->langchain) (3.1.1)\n",
            "Requirement already satisfied: jsonpointer>=1.9 in /usr/local/lib/python3.11/dist-packages (from jsonpatch<2.0,>=1.33->langchain-core<0.4.0,>=0.3.31->langchain) (3.0.0)\n",
            "Requirement already satisfied: mypy-extensions>=0.3.0 in /usr/local/lib/python3.11/dist-packages (from typing-inspect<1,>=0.4.0->dataclasses-json<0.7,>=0.5.7->langchain-community) (1.0.0)\n"
          ]
        }
      ]
    },
    {
      "cell_type": "code",
      "source": [
        "!curl -fsSL https://ollama.com/install.sh | sh"
      ],
      "metadata": {
        "colab": {
          "base_uri": "https://localhost:8080/"
        },
        "id": "nBPLqg12KYaR",
        "outputId": "600c30da-7ada-409b-b572-a749d95a098b"
      },
      "execution_count": 85,
      "outputs": [
        {
          "output_type": "stream",
          "name": "stdout",
          "text": [
            ">>> Cleaning up old version at /usr/local/lib/ollama\n",
            ">>> Installing ollama to /usr/local\n",
            ">>> Downloading Linux amd64 bundle\n",
            "############################################################################################# 100.0%\n",
            ">>> Adding ollama user to video group...\n",
            ">>> Adding current user to ollama group...\n",
            ">>> Creating ollama systemd service...\n",
            "\u001b[1m\u001b[31mWARNING:\u001b[m systemd is not running\n",
            ">>> NVIDIA GPU installed.\n",
            ">>> The Ollama API is now available at 127.0.0.1:11434.\n",
            ">>> Install complete. Run \"ollama\" from the command line.\n"
          ]
        }
      ]
    },
    {
      "cell_type": "markdown",
      "source": [
        "We run ollama once using ``nohup``command to ensure it is running in the background and not stoping us from running the succeeding cells."
      ],
      "metadata": {
        "id": "jDcVWXjRwCdU"
      }
    },
    {
      "cell_type": "code",
      "source": [
        "!nohup ollama serve &"
      ],
      "metadata": {
        "colab": {
          "base_uri": "https://localhost:8080/"
        },
        "id": "JmWkLMX1KwpF",
        "outputId": "85861d49-b640-45e3-a29a-e0b13a121775"
      },
      "execution_count": null,
      "outputs": [
        {
          "output_type": "stream",
          "name": "stdout",
          "text": [
            "nohup: appending output to 'nohup.out'\n"
          ]
        }
      ]
    },
    {
      "cell_type": "code",
      "execution_count": null,
      "metadata": {
        "id": "KUaprw7IcK-R"
      },
      "outputs": [],
      "source": [
        "import os\n",
        "import re\n",
        "import ast\n",
        "import time\n",
        "import json\n",
        "import signal\n",
        "import requests\n",
        "\n",
        "from langchain_ollama import ChatOllama\n",
        "from langchain_core.output_parsers import PydanticOutputParser\n",
        "from langchain_core.prompts import ChatPromptTemplate\n",
        "\n",
        "from typing import List, Optional, Union\n",
        "from pydantic import BaseModel, Field\n",
        "\n",
        "from tqdm.notebook import tqdm"
      ]
    },
    {
      "cell_type": "code",
      "source": [
        "!ollama pull qwen2.5-coder:7b"
      ],
      "metadata": {
        "colab": {
          "base_uri": "https://localhost:8080/"
        },
        "id": "AkgHAGKZOjSK",
        "outputId": "524b0160-71f5-41e9-9530-831808d45548"
      },
      "execution_count": 86,
      "outputs": [
        {
          "output_type": "stream",
          "name": "stdout",
          "text": [
            "\u001b[?25lpulling manifest ⠋ \u001b[?25h\u001b[?25l\u001b[2K\u001b[1Gpulling manifest ⠙ \u001b[?25h\u001b[?25l\u001b[2K\u001b[1Gpulling manifest ⠹ \u001b[?25h\u001b[?25l\u001b[2K\u001b[1Gpulling manifest ⠸ \u001b[?25h\u001b[?25l\u001b[2K\u001b[1Gpulling manifest ⠼ \u001b[?25h\u001b[?25l\u001b[2K\u001b[1Gpulling manifest ⠴ \u001b[?25h\u001b[?25l\u001b[2K\u001b[1Gpulling manifest ⠦ \u001b[?25h\u001b[?25l\u001b[2K\u001b[1Gpulling manifest ⠧ \u001b[?25h\u001b[?25l\u001b[2K\u001b[1Gpulling manifest ⠇ \u001b[?25h\u001b[?25l\u001b[2K\u001b[1Gpulling manifest ⠏ \u001b[?25h\u001b[?25l\u001b[2K\u001b[1Gpulling manifest ⠋ \u001b[?25h\u001b[?25l\u001b[2K\u001b[1Gpulling manifest ⠙ \u001b[?25h\u001b[?25l\u001b[2K\u001b[1Gpulling manifest ⠹ \u001b[?25h\u001b[?25l\u001b[2K\u001b[1Gpulling manifest ⠸ \u001b[?25h\u001b[?25l\u001b[2K\u001b[1Gpulling manifest ⠼ \u001b[?25h\u001b[?25l\u001b[2K\u001b[1Gpulling manifest \n",
            "pulling 60e05f210007... 100% ▕▏ 4.7 GB                         \n",
            "pulling 66b9ea09bd5b... 100% ▕▏   68 B                         \n",
            "pulling e94a8ecb9327... 100% ▕▏ 1.6 KB                         \n",
            "pulling 832dd9e00a68... 100% ▕▏  11 KB                         \n",
            "pulling d9bb33f27869... 100% ▕▏  487 B                         \n",
            "verifying sha256 digest \n",
            "writing manifest \n",
            "success \u001b[?25h\n"
          ]
        }
      ]
    },
    {
      "cell_type": "markdown",
      "source": [
        "# An Easy Exact Match Example"
      ],
      "metadata": {
        "id": "lS0GEH6fyLdo"
      }
    },
    {
      "cell_type": "markdown",
      "source": [
        "First we start with exact match on mail extraction.\n",
        "\n",
        "Exact match of the values ``a`` and ``b``is calculated by ``1 if a == b else 0`` ([Chang et al., 2024](https://doi.org/10.1145/3641289))"
      ],
      "metadata": {
        "id": "wW0C2OfPyT0p"
      }
    },
    {
      "cell_type": "markdown",
      "source": [
        "At first we need to setup the chain."
      ],
      "metadata": {
        "id": "nGKHl5doyuxz"
      }
    },
    {
      "cell_type": "markdown",
      "source": [
        "## Setup the Model"
      ],
      "metadata": {
        "id": "6MVs8Q9My233"
      }
    },
    {
      "cell_type": "code",
      "source": [
        "LLM_CONFIG = {\n",
        "    \"model\": \"qwen2.5-coder:7b\",\n",
        "    \"temperature\": 0.0,\n",
        "    \"seed\": 1,\n",
        "    \"timeout\": 30, # this is not working with langchain ollama, we will use a workaround\n",
        "}\n",
        "# llm to prompt\n",
        "llm = ChatOllama(\n",
        "    **LLM_CONFIG\n",
        ")"
      ],
      "metadata": {
        "id": "tIpu00Q3O_ca"
      },
      "execution_count": null,
      "outputs": []
    },
    {
      "cell_type": "markdown",
      "source": [
        "## Setup the Prompt"
      ],
      "metadata": {
        "id": "YsVH9jGxy5EX"
      }
    },
    {
      "cell_type": "code",
      "source": [
        "SYSTEM_PROMPT_TEMPLATE = \"\"\"You are an assistant that extracts email addresses from adress infos.\n",
        "You return only the email address, nothing else, no additional formatting.\"\"\"\n",
        "\n",
        "PROMPT_TEMPLATE = \"\"\"{query}\"\"\"\n",
        "\n",
        "messages = [\n",
        "    (\n",
        "        \"system\",\n",
        "        SYSTEM_PROMPT_TEMPLATE,\n",
        "    ),\n",
        "    (\n",
        "        \"human\",\n",
        "        PROMPT_TEMPLATE,\n",
        "    ),\n",
        "]\n",
        "\n",
        "# add messages to template\n",
        "prompt = ChatPromptTemplate.from_messages(\n",
        "    messages\n",
        ")\n"
      ],
      "metadata": {
        "id": "-hv4_6RviJzH"
      },
      "execution_count": null,
      "outputs": []
    },
    {
      "cell_type": "markdown",
      "source": [
        "# Setup the Chain"
      ],
      "metadata": {
        "id": "1p_z8naxy7ZP"
      }
    },
    {
      "cell_type": "code",
      "source": [
        "chain = prompt | llm"
      ],
      "metadata": {
        "id": "B5IlqW88iczQ"
      },
      "execution_count": null,
      "outputs": []
    },
    {
      "cell_type": "code",
      "source": [
        "address_infos_test = [\n",
        "    [\"My Name is Oliver Müller you can contact me using oliver.mueller@uni-paderborn.de\", \"oliver.mueller@uni-paderborn.de\"],\n",
        "    [\"Hey, here is Sascha, please contact me under sascha.kaltenpoth@uni-paderborn.de\", \"sascha.kaltenpoth@uni-paderborn.de\",],\n",
        "    [\"Hello it's Dirk, you should have received an email from dirk.leffrang@uni-paderborn.de. Please answer the email or, if you haven't received the mail write me.\", \"dirk.leffrang@uni-paderborn.de\"],\n",
        "    [\"Hello its Max Mustermann, you can contact me under max.mustermann@muster-firm.com if you want to here about our latest products.\", \"max.mustermann@muster-firm.com\"],\n",
        "]"
      ],
      "metadata": {
        "id": "nKQ4Cmivii7w"
      },
      "execution_count": null,
      "outputs": []
    },
    {
      "cell_type": "code",
      "source": [
        "def exact_match(address_infos_test):\n",
        "    for adress_info in address_infos_test:\n",
        "        resp = chain.invoke({\"query\": adress_info[0]}).content\n",
        "        if adress_info[1] == resp:\n",
        "            print(f\"✅ {resp}\")\n",
        "        else:\n",
        "            print(f\"❌ {resp}\")"
      ],
      "metadata": {
        "id": "MlH8mdWTsimT"
      },
      "execution_count": null,
      "outputs": []
    },
    {
      "cell_type": "code",
      "source": [
        "exact_match(address_infos_test)"
      ],
      "metadata": {
        "colab": {
          "base_uri": "https://localhost:8080/"
        },
        "id": "ufHCfa7ytXyI",
        "outputId": "6576c784-bf92-4ee1-8000-334333988d73"
      },
      "execution_count": null,
      "outputs": [
        {
          "output_type": "stream",
          "name": "stdout",
          "text": [
            "✅ oliver.mueller@uni-paderborn.de\n",
            "✅ sascha.kaltenpoth@uni-paderborn.de\n",
            "✅ dirk.leffrang@uni-paderborn.de\n",
            "✅ max.mustermann@muster-firm.com\n"
          ]
        }
      ]
    },
    {
      "cell_type": "markdown",
      "source": [
        "Wow that was easy. But what happens, when we want to apply exact match to a more complex task, like out swimming example."
      ],
      "metadata": {
        "id": "T0mRkHwyy_Oi"
      }
    },
    {
      "cell_type": "markdown",
      "source": [
        "# Swimming Example"
      ],
      "metadata": {
        "id": "-qOE9JfLzKZr"
      }
    },
    {
      "cell_type": "markdown",
      "source": [
        "First we need to setup the structure for the output, use a prompt and a model and chain that. Then we can apply ``exact match``to every model response and test set value."
      ],
      "metadata": {
        "id": "RVAtTQdczN5S"
      }
    },
    {
      "cell_type": "markdown",
      "source": [
        "## Setup the Chain"
      ],
      "metadata": {
        "id": "blgd4HlOzdgT"
      }
    },
    {
      "cell_type": "markdown",
      "source": [
        "### Setup the structure"
      ],
      "metadata": {
        "id": "9WEm2x0_zfpG"
      }
    },
    {
      "cell_type": "code",
      "execution_count": null,
      "metadata": {
        "id": "qUgTcCNqd3N9"
      },
      "outputs": [],
      "source": [
        "class Segment(BaseModel):\n",
        "    segment_distance: int = Field(description='Distance of the SEGMENT in meters. Starts a new SEGMENT. (e.g., \"75 butterfly\" can be extracted to \"segment_distance\": 75)')\n",
        "    segment_instructions: str = Field(description='Instructions for the SEGMENT. Occur after the \"segment_distance\". (e.g., \"50 Torpedo Fb\" can be extracted to \"segment_instructions\": \"Torpedo Fb\")')\n",
        "\n",
        "class Drill(BaseModel):\n",
        "    set_repetitions: int = Field(default=1, description='Number of repetitions for the SET. Occurs in combination with \"set_distance\". (e.g., \"4x100\" can be extracted and \"set_repititions\": 4 or \"600\" can be extracted to \"set_repititions\": 1)')\n",
        "    set_distance: int = Field(description='Distance of the SET in meters. Occurs in combination with \"set_repetitions\". (e.g., \"10x50\" can be extracted to \"set_distance\": 50 and \"500\" can be extracted to \"set_distance\": 500)')\n",
        "    set_instructions: str = Field(default=\"\", description='Instructions for the SET. Occurs after the set_distance. (e.g., \"5x20\" K: can be extracted to \"set_instructions\": \"K\")')\n",
        "    set: List[Segment] = Field(defalut=[], description='List of SEGMENTS that occurs after the \"set_repetitions\", \"set_distance\" and \"set_instructions\". Each SEGMENT has a \"segment_distance\" and \"segment_instructions\". (e.g., \"35 Ges BrB\" can be extracted to {\"segment_distance\": 25, \"segment_instructions\": \"Ges BrB\"} and \"25 Kombi 25 skullen\\n 50 K3-3 P15\" can be extracted to {\"segment_distance\": 25, \"segment_instructions\": \"Kombi\"}, {\"segment_distance\": 25, \"segment_instructions\": \"skullen\"} and {\"segment_distance\": 50, \"segment_instructions\": \"K3-3 P15\"})')\n",
        "    rest_period: int = Field(default=0, description='''Rest period in seconds. (e.g., \"P15\\\"\" can be extracted to \"rest_period\": 15)''')\n",
        "    drill_form: str = Field(default=\"\", description='Form of the DRILL. Occurs in combination with \"drill_intensity\" followed by the \"drill_distance\" and \"drill_duration\". (e.g., \"T2 0,25 8\" can be extracted to \"drill_form\": \"T\" and \"3; 400; 9\" can be extracted to \"drill_form\": \"\")')\n",
        "    drill_intensity: int = Field(description='Intensity of the DRILL. Occurs in combination with \"drill_form\" followed by the \"drill_distance\" and \"drill_duration\". (e.g., \"2; 1; 15\" can be extracted to \"drill_intensity\": 2 and \"B1 1200 8\" can be extracted to \"drill_intensity\": 1)')\n",
        "    drill_distance: int = Field(description='Distance of the DRILL in meters or kilometers. Occurs after the combination of \"drill_form\" and \"drill_distance\". (e.g., \"B3 0,3 20\" can be extracted to \"drill_distance\": 300 and \"A4 400m 18 min\" can be extracted to \"drill_distance\": 400)')\n",
        "    drill_duration: int = Field(description='Duration of the DRILL in minutes. Last value in the string that occurs after the \"drill_distance\". (e.g., \"8 0,4 7\" can be extracted to \"drill_duration\": 7 and \"1; 0,9; 10 min\" can be extracted to \"drill_duration\": 10)')"
      ]
    },
    {
      "cell_type": "markdown",
      "source": [
        "### Setup the Prompt and Format instruction."
      ],
      "metadata": {
        "id": "woBhNHx7ziEb"
      }
    },
    {
      "cell_type": "code",
      "execution_count": null,
      "metadata": {
        "id": "yCA2F1bFcXlX"
      },
      "outputs": [],
      "source": [
        "SYSTEM_PROMPT_TEMPLATE = \"\"\"You are an assistant who extracts information from a semi-structured string into JSON format.\n",
        "\n",
        "{format_instructions}\n",
        "\n",
        "DO NOT include any additional comments, context or explanations in your JSON response.\"\"\"\n",
        "\n",
        "PROMPT_TEMPLATE = \"\"\"{query}\"\"\""
      ]
    },
    {
      "cell_type": "code",
      "execution_count": null,
      "metadata": {
        "id": "OZfpK_z6d8HI",
        "colab": {
          "base_uri": "https://localhost:8080/"
        },
        "outputId": "dfa857f8-8b9e-4b14-c00c-3a50d5387b05"
      },
      "outputs": [
        {
          "output_type": "stream",
          "name": "stdout",
          "text": [
            "The output should be formatted as a JSON instance that conforms to the JSON schema below.\n",
            "\n",
            "```json\n",
            "{\n",
            "        \"set_repetitions\": int, Number of repetitions for the SET. Occurs in combination with \"set_distance\". (e.g., \"4x100\" can be extracted and \"set_repititions\": 4 or \"600\" can be extracted to \"set_repititions\": 1), If you can not find any \"set_repetitions\", \"set_repetitions\" defaults to 1,\n",
            "        \"set_distance\": int, Distance of the SET in meters. Occurs in combination with \"set_repetitions\". (e.g., \"10x50\" can be extracted to \"set_distance\": 50 and \"500\" can be extracted to \"set_distance\": 500),\n",
            "        \"set_instructions\": str, Instructions for the SET. Occurs after the set_distance. (e.g., \"5x20\" K: can be extracted to \"set_instructions\": \"K\"), If you can not find any \"set_instructions\", \"set_instructions\" defaults to \"\",\n",
            "        \"set\": [ List, List of SEGMENTS that occurs after the \"set_repetitions\", \"set_distance\" and \"set_instructions\". Each SEGMENT has a \"segment_distance\" and \"segment_instructions\". (e.g., \"35 Ges BrB\" can be extracted to {\"segment_distance\": 25, \"segment_instructions\": \"Ges BrB\"} and \"25 Kombi 25 skullen\n",
            " 50 K3-3 P15\" can be extracted to {\"segment_distance\": 25, \"segment_instructions\": \"Kombi\"}, {\"segment_distance\": 25, \"segment_instructions\": \"skullen\"} and {\"segment_distance\": 50, \"segment_instructions\": \"K3-3 P15\"})\n",
            "            {\n",
            "                \"segment_distance\": 0, Distance of the SEGMENT in meters. Starts a new SEGMENT. (e.g., \"75 butterfly\" can be extracted to \"segment_distance\": 75),\n",
            "                \"segment_instructions\": \"\", Distance of the SEGMENT in meters. Starts a new SEGMENT. (e.g., \"75 butterfly\" can be extracted to \"segment_distance\": 75), If you can not find any \"segment_instructions\", \"segment_instructions\" defaults to \"\"\n",
            "            }\n",
            "            ... (more segments) ...\n",
            "        ],\n",
            "        \"rest_period\": int, Rest period in seconds. (e.g., \"P15\"\" can be extracted to \"rest_period\": 15), If you can not find any \"rest_period\", \"rest_period\" defaults to 0,\n",
            "        \"drill_form\": str, Form of the DRILL. Occurs in combination with \"drill_intensity\" followed by the \"drill_distance\" and \"drill_duration\". (e.g., \"T2 0,25 8\" can be extracted to \"drill_form\": \"T\" and \"3; 400; 9\" can be extracted to \"drill_form\": \"\"), If you can not find any \"drill_form\", \"drill_form\" defaults to \"\",\n",
            "        \"drill_intensity\": int, Intensity of the DRILL. Occurs in combination with \"drill_form\" followed by the \"drill_distance\" and \"drill_duration\". (e.g., \"2; 1; 15\" can be extracted to \"drill_intensity\": 2 and \"B1 1200 8\" can be extracted to \"drill_intensity\": 1),\n",
            "        \"drill_distance\": int, Distance of the DRILL in meters or kilometers. Occurs after the combination of \"drill_form\" and \"drill_distance\". (e.g., \"B3 0,3 20\" can be extracted to \"drill_distance\": 300 and \"A4 400m 18 min\" can be extracted to \"drill_distance\": 400),\n",
            "        \"drill_duration\": int, Duration of the DRILL in minutes. Last value in the string that occurs after the \"drill_distance\". (e.g., \"8 0,4 7\" can be extracted to \"drill_duration\": 7 and \"1; 0,9; 10 min\" can be extracted to \"drill_duration\": 10), }\n",
            "```\n"
          ]
        }
      ],
      "source": [
        "FORMAT_INSTRUCTIONS_JSON_TEMPLATE = \"\"\"The output should be formatted as a JSON instance that conforms to the JSON schema below.\n",
        "\n",
        "```json\n",
        "{\n",
        "        \"set_repetitions\": int, Number of repetitions for the SET. Occurs in combination with \"set_distance\". (e.g., \"4x100\" can be extracted and \"set_repititions\": 4 or \"600\" can be extracted to \"set_repititions\": 1), If you can not find any \"set_repetitions\", \"set_repetitions\" defaults to 1,\n",
        "        \"set_distance\": int, Distance of the SET in meters. Occurs in combination with \"set_repetitions\". (e.g., \"10x50\" can be extracted to \"set_distance\": 50 and \"500\" can be extracted to \"set_distance\": 500),\n",
        "        \"set_instructions\": str, Instructions for the SET. Occurs after the set_distance. (e.g., \"5x20\" K: can be extracted to \"set_instructions\": \"K\"), If you can not find any \"set_instructions\", \"set_instructions\" defaults to \"\",\n",
        "        \"set\": [ List, List of SEGMENTS that occurs after the \"set_repetitions\", \"set_distance\" and \"set_instructions\". Each SEGMENT has a \"segment_distance\" and \"segment_instructions\". (e.g., \"35 Ges BrB\" can be extracted to {\"segment_distance\": 25, \"segment_instructions\": \"Ges BrB\"} and \"25 Kombi 25 skullen\\n 50 K3-3 P15\" can be extracted to {\"segment_distance\": 25, \"segment_instructions\": \"Kombi\"}, {\"segment_distance\": 25, \"segment_instructions\": \"skullen\"} and {\"segment_distance\": 50, \"segment_instructions\": \"K3-3 P15\"})\n",
        "            {\n",
        "                \"segment_distance\": 0, Distance of the SEGMENT in meters. Starts a new SEGMENT. (e.g., \"75 butterfly\" can be extracted to \"segment_distance\": 75),\n",
        "                \"segment_instructions\": \"\", Distance of the SEGMENT in meters. Starts a new SEGMENT. (e.g., \"75 butterfly\" can be extracted to \"segment_distance\": 75), If you can not find any \"segment_instructions\", \"segment_instructions\" defaults to \"\"\n",
        "            }\n",
        "            ... (more segments) ...\n",
        "        ],\n",
        "        \"rest_period\": int, Rest period in seconds. (e.g., \"P15\"\" can be extracted to \"rest_period\": 15), If you can not find any \"rest_period\", \"rest_period\" defaults to 0,\n",
        "        \"drill_form\": str, Form of the DRILL. Occurs in combination with \"drill_intensity\" followed by the \"drill_distance\" and \"drill_duration\". (e.g., \"T2 0,25 8\" can be extracted to \"drill_form\": \"T\" and \"3; 400; 9\" can be extracted to \"drill_form\": \"\"), If you can not find any \"drill_form\", \"drill_form\" defaults to \"\",\n",
        "        \"drill_intensity\": int, Intensity of the DRILL. Occurs in combination with \"drill_form\" followed by the \"drill_distance\" and \"drill_duration\". (e.g., \"2; 1; 15\" can be extracted to \"drill_intensity\": 2 and \"B1 1200 8\" can be extracted to \"drill_intensity\": 1),\n",
        "        \"drill_distance\": int, Distance of the DRILL in meters or kilometers. Occurs after the combination of \"drill_form\" and \"drill_distance\". (e.g., \"B3 0,3 20\" can be extracted to \"drill_distance\": 300 and \"A4 400m 18 min\" can be extracted to \"drill_distance\": 400),\n",
        "        \"drill_duration\": int, Duration of the DRILL in minutes. Last value in the string that occurs after the \"drill_distance\". (e.g., \"8 0,4 7\" can be extracted to \"drill_duration\": 7 and \"1; 0,9; 10 min\" can be extracted to \"drill_duration\": 10), }\n",
        "```\"\"\"\n",
        "print(FORMAT_INSTRUCTIONS_JSON_TEMPLATE)"
      ]
    },
    {
      "cell_type": "code",
      "source": [
        "messages = [\n",
        "    (\n",
        "        \"system\",\n",
        "        SYSTEM_PROMPT_TEMPLATE,\n",
        "    ),\n",
        "    (\n",
        "        \"human\",\n",
        "        PROMPT_TEMPLATE,\n",
        "    ),\n",
        "]\n",
        "\n",
        "# add messages to template\n",
        "prompt = ChatPromptTemplate.from_messages(\n",
        "    messages\n",
        ")"
      ],
      "metadata": {
        "id": "LC6Bz2MUPbR3"
      },
      "execution_count": null,
      "outputs": []
    },
    {
      "cell_type": "code",
      "source": [
        "prompt = prompt.partial(\n",
        "    format_instructions=FORMAT_INSTRUCTIONS_JSON_TEMPLATE\n",
        ")"
      ],
      "metadata": {
        "id": "VaGbdqikPSrb"
      },
      "execution_count": null,
      "outputs": []
    },
    {
      "cell_type": "markdown",
      "source": [
        "### Setup the Model"
      ],
      "metadata": {
        "id": "UdztoQZ7zpW7"
      }
    },
    {
      "cell_type": "code",
      "source": [
        "LLM_CONFIG = {\n",
        "    \"model\": \"qwen2.5-coder:7b\",\n",
        "    \"temperature\": 0.0,\n",
        "    \"seed\": 1,\n",
        "    \"timeout\": 30, # this is not working with langchain ollama, we will use a workaround\n",
        "}\n",
        "# llm to prompt\n",
        "llm = ChatOllama(\n",
        "    **LLM_CONFIG\n",
        ")"
      ],
      "metadata": {
        "id": "YJ5kFanrihdq"
      },
      "execution_count": null,
      "outputs": []
    },
    {
      "cell_type": "code",
      "source": [
        "chain = prompt | llm"
      ],
      "metadata": {
        "id": "5SVYSKjGOSjM"
      },
      "execution_count": null,
      "outputs": []
    },
    {
      "cell_type": "markdown",
      "source": [
        "## Generate Responses"
      ],
      "metadata": {
        "id": "lQxQEzq4zsvi"
      }
    },
    {
      "cell_type": "markdown",
      "source": [
        "### Download the test set\n",
        "(here called train.json)."
      ],
      "metadata": {
        "id": "L8WHyEXzz5Y_"
      }
    },
    {
      "cell_type": "code",
      "execution_count": null,
      "metadata": {
        "colab": {
          "base_uri": "https://localhost:8080/"
        },
        "id": "ZkSMj3bxduNT",
        "outputId": "28cf55e6-0346-485b-f007-173ab7259f0b"
      },
      "outputs": [
        {
          "output_type": "stream",
          "name": "stdout",
          "text": [
            "File downloaded successfully.\n",
            "{\n",
            "    \"4x100: 25 butterfly, 50 torpedo, 25 freestyle; A2; 400 m; 8 min\": {\n",
            "        \"set_repetitions\": 4,\n",
            "        \"set_distance\": 100,\n",
            "        \"set_instructions\": \"\",\n",
            "        \"set\": [\n",
            "            {\n",
            "                \"segment_distance\": 25,\n",
            "                \"segment_instructions\": \"butterfly\"\n",
            "            },\n",
            "            {\n",
            "                \"segment_distance\": 50,\n",
            "                \"segment_instructions\": \"torpedo\"\n",
            "            },\n",
            "            {\n",
            "                \"segment_distance\": 25,\n",
            "                \"segment_instructions\": \"freestyle\"\n",
            "            }\n",
            "        ],\n",
            "        \"rest_period\": 0,\n",
            "        \"drill_form\": \"A\",\n",
            "        \"drill_intensity\": 2,\n",
            "        \"drill_distance\": 400,\n",
            "        \"drill_duration\": 8\n",
            "    },\n",
            "    \"4x100: 25 To...\n"
          ]
        }
      ],
      "source": [
        "response = requests.get(\"https://raw.githubusercontent.com/olivermueller/amlta-2024/refs/heads/main/Session_10/train.json\")\n",
        "# Check if the request was successful (status code 200)\n",
        "if response.status_code == 200:\n",
        "    # Write the content to a local file\n",
        "    with open('train.json', 'wb') as file:\n",
        "        file.write(response.content)\n",
        "    print(\"File downloaded successfully.\")\n",
        "else:\n",
        "    print(f\"Failed to download file. Status code: {response.status_code}\")\n",
        "\n",
        "with open(\"train.json\", encoding=\"utf-8\") as j_file:\n",
        "    test = json.load(j_file)\n",
        "print(json.dumps(test, indent=4)[:720] + \"...\")\n",
        "test_prompts = list(test.keys())"
      ]
    },
    {
      "cell_type": "markdown",
      "source": [
        "### Generate actual responses and store them"
      ],
      "metadata": {
        "id": "GF2hMSkLz_oK"
      }
    },
    {
      "cell_type": "code",
      "execution_count": null,
      "metadata": {
        "colab": {
          "base_uri": "https://localhost:8080/",
          "height": 49,
          "referenced_widgets": [
            "1eed8542c26840db81fbb4e85273221e",
            "574b2b4064794d5584cfe1764cadf7fc",
            "e55033c3d3854eada8685a5492e6e0d7",
            "034994725a5e449a9935cba3fddb4965",
            "c8fa2dd4aa01415db8735fca49e6a2e7",
            "a6205ca7923e4a508b50695f68289465",
            "bea0f06c96084849b6fb46bb9d4841da",
            "95882534df384f73a3647267ea1b6da6",
            "6d3ae6a319e04e32a7f954874f3ba6a2",
            "c652b6360ff1426a8d33f04862222799",
            "7ddf912a8b17405bb1bb33426cd92527"
          ]
        },
        "id": "vS1H1-akryVr",
        "outputId": "f16cc371-81dc-4bfc-e500-c63ca763fc31"
      },
      "outputs": [
        {
          "output_type": "display_data",
          "data": {
            "text/plain": [
              "  0%|          | 0/20 [00:00<?, ?it/s]"
            ],
            "application/vnd.jupyter.widget-view+json": {
              "version_major": 2,
              "version_minor": 0,
              "model_id": "1eed8542c26840db81fbb4e85273221e"
            }
          },
          "metadata": {}
        }
      ],
      "source": [
        "eval_results = {}\n",
        "for i in tqdm(range(len(test_prompts))):\n",
        "    st = time.time()\n",
        "    query = test_prompts[i]\n",
        "\n",
        "    # parser soft evaluation\n",
        "    # we parse first with literal evaluation and then try json\n",
        "    try:\n",
        "        response = chain.invoke({\"query\": query}).content\n",
        "        matches = re.search(r\"```json(.*?)```\", response, re.DOTALL)\n",
        "        if matches:\n",
        "            response = matches.group(1).strip()\n",
        "        # we parse first with literal evaluation\n",
        "        response = ast.literal_eval(response)\n",
        "    except Exception as e:\n",
        "        print(e)\n",
        "        try:\n",
        "            response = json.loads(response)\n",
        "        except Exception as e:\n",
        "            response = {}\n",
        "    eval_results[query] = response\n",
        "with open(f\"{LLM_CONFIG.get('model').split('/')[-1]}.json\", \"w\", encoding=\"utf-8\") as j_file:\n",
        "    json.dump(eval_results, j_file, indent=4, ensure_ascii=False)"
      ]
    },
    {
      "cell_type": "markdown",
      "source": [
        "### Write the exact match code\n",
        "\n",
        "(with little help of ChatGPT)"
      ],
      "metadata": {
        "id": "J2kam4lV0Dat"
      }
    },
    {
      "cell_type": "code",
      "source": [
        "def compare_dictionaries(dict1, dict2):\n",
        "    \"\"\"\n",
        "    Compares two dictionaries and returns a list of differences.\n",
        "\n",
        "    Args:\n",
        "        dict1 (dict): The first dictionary to compare.\n",
        "        dict2 (dict): The second dictionary to compare.\n",
        "\n",
        "    Returns:\n",
        "        list: A list of strings describing differences between the dictionaries.\n",
        "    \"\"\"\n",
        "    differences = []\n",
        "\n",
        "    def compare_values(key, val1, val2, parent=\"\"):\n",
        "        if val1 != val2:\n",
        "            location = f\"{parent + '.' if parent else ''}{key}\"\n",
        "            differences.append(f\"Difference at '{location}': {val1} != {val2}\")\n",
        "\n",
        "    def compare_segments(segment_list1, segment_list2, parent=\"set\"):\n",
        "        len1, len2 = len(segment_list1), len(segment_list2)\n",
        "        if len1 != len2:\n",
        "            differences.append(f\"Difference in {parent} length: {len1} != {len2}\")\n",
        "            return\n",
        "\n",
        "        for i, (seg1, seg2) in enumerate(zip(segment_list1, segment_list2)):\n",
        "            for key in seg1.keys() | seg2.keys():\n",
        "                compare_values(f\"{parent}[{i}].{key}\", seg1.get(key), seg2.get(key), parent=parent)\n",
        "\n",
        "    # Compare top-level keys\n",
        "    for key in dict1.keys() | dict2.keys():\n",
        "        val1, val2 = dict1.get(key), dict2.get(key)\n",
        "\n",
        "        if key == \"set\":\n",
        "            if isinstance(val1, list) and isinstance(val2, list):\n",
        "                compare_segments(val1, val2)\n",
        "            else:\n",
        "                compare_values(key, val1, val2)\n",
        "        else:\n",
        "            compare_values(key, val1, val2)\n",
        "\n",
        "    return differences\n",
        "\n",
        "def compare_list_of_dictionaries(list1, list2):\n",
        "    \"\"\"\n",
        "    Compares two lists of dictionaries and counts similar values for every key.\n",
        "    For segments, it counts the number of matching segments.\n",
        "\n",
        "    Args:\n",
        "        list1 (list): The first list of dictionaries to compare.\n",
        "        list2 (list): The second list of dictionaries to compare.\n",
        "\n",
        "    Returns:\n",
        "        dict: A dictionary with counts of similar values for each key and matching segments.\n",
        "    \"\"\"\n",
        "    similarity_counts = {}\n",
        "\n",
        "    def count_segments(seg_list1, seg_list2):\n",
        "        matching_segments = 0\n",
        "        for seg1, seg2 in zip(seg_list1, seg_list2):\n",
        "            if seg1 == seg2:\n",
        "                matching_segments += 1\n",
        "        return matching_segments\n",
        "\n",
        "    for dict1, dict2 in zip(list1, list2):\n",
        "        for key in dict1.keys() | dict2.keys():\n",
        "            val1, val2 = dict1.get(key), dict2.get(key)\n",
        "\n",
        "            if key == \"set\":\n",
        "                if isinstance(val1, list) and isinstance(val2, list):\n",
        "                    matching_segments = count_segments(val1, val2)\n",
        "                    similarity_counts[key] = similarity_counts.get(key, 0) + matching_segments\n",
        "                else:\n",
        "                    similarity_counts[key] = similarity_counts.get(key, 0)\n",
        "            else:\n",
        "                if val1 == val2:\n",
        "                    similarity_counts[key] = similarity_counts.get(key, 0) + 1\n",
        "                else:\n",
        "                    similarity_counts[key] = similarity_counts.get(key, 0)\n",
        "\n",
        "    return similarity_counts"
      ],
      "metadata": {
        "id": "87ck7v3VZDVR"
      },
      "execution_count": null,
      "outputs": []
    },
    {
      "cell_type": "code",
      "source": [
        "with open(\"train.json\", encoding=\"utf-8\") as j_file:\n",
        "    train = json.load(j_file)\n",
        "    dict_list1 = list(train.values())\n",
        "\n",
        "with open(f\"{LLM_CONFIG.get('model').split('/')[-1]}.json\", encoding=\"utf-8\") as j_file:\n",
        "    dict_list2 = json.load(j_file)\n",
        "    dict_list2 = list(dict_list2.values())"
      ],
      "metadata": {
        "id": "_OfvvUlshLu9"
      },
      "execution_count": null,
      "outputs": []
    },
    {
      "cell_type": "code",
      "source": [
        "actual = dict(([(x, 20) for x in train[list(train.keys())[0]].keys() if x != \"set\"]))\n",
        "actual[\"set\"] = 0\n",
        "for t in train:\n",
        "    actual[\"set\"] += len(train[t].get(\"set\"))\n",
        "print(actual)\n",
        "# Find similarity counts\n",
        "similarity_counts = compare_list_of_dictionaries(dict_list1, dict_list2)\n",
        "print(json.dumps(similarity_counts, indent=4))"
      ],
      "metadata": {
        "colab": {
          "base_uri": "https://localhost:8080/"
        },
        "id": "3FNqtkMiw7Fv",
        "outputId": "b20fde05-82ff-419e-e410-8de1fa6db069"
      },
      "execution_count": null,
      "outputs": [
        {
          "output_type": "stream",
          "name": "stdout",
          "text": [
            "{'set_repetitions': 20, 'set_distance': 20, 'set_instructions': 20, 'rest_period': 20, 'drill_form': 20, 'drill_intensity': 20, 'drill_distance': 20, 'drill_duration': 20, 'set': 50}\n",
            "{\n",
            "    \"set_instructions\": 10,\n",
            "    \"set\": 25,\n",
            "    \"drill_duration\": 12,\n",
            "    \"drill_distance\": 7,\n",
            "    \"set_distance\": 17,\n",
            "    \"drill_form\": 17,\n",
            "    \"drill_intensity\": 12,\n",
            "    \"set_repetitions\": 20,\n",
            "    \"rest_period\": 14\n",
            "}\n"
          ]
        }
      ]
    },
    {
      "cell_type": "markdown",
      "source": [
        "### Calculate the final results"
      ],
      "metadata": {
        "id": "QCCopZxw0L3i"
      }
    },
    {
      "cell_type": "code",
      "source": [
        "for similarity_count in similarity_counts:\n",
        "    print(f\"{similarity_count}: {similarity_counts[similarity_count] / actual[similarity_count] * 100}\")"
      ],
      "metadata": {
        "colab": {
          "base_uri": "https://localhost:8080/"
        },
        "id": "suQytb_Lxhmg",
        "outputId": "09b610c5-afe1-4f1d-e7e0-dfc111ad3baf"
      },
      "execution_count": null,
      "outputs": [
        {
          "output_type": "stream",
          "name": "stdout",
          "text": [
            "set_instructions: 50.0\n",
            "set: 50.0\n",
            "drill_duration: 60.0\n",
            "drill_distance: 35.0\n",
            "set_distance: 85.0\n",
            "drill_form: 85.0\n",
            "drill_intensity: 60.0\n",
            "set_repetitions: 100.0\n",
            "rest_period: 70.0\n"
          ]
        }
      ]
    },
    {
      "cell_type": "markdown",
      "source": [
        "Wow, maybe we need to improve prompting here. Only 50% of the sets are correctly extracted and only 35% of the drill distances."
      ],
      "metadata": {
        "id": "g4pHC-fo0OVK"
      }
    }
  ],
  "metadata": {
    "accelerator": "GPU",
    "colab": {
      "gpuType": "A100",
      "machine_shape": "hm",
      "provenance": []
    },
    "kernelspec": {
      "display_name": "aml4ta",
      "language": "python",
      "name": "python3"
    },
    "language_info": {
      "codemirror_mode": {
        "name": "ipython",
        "version": 3
      },
      "file_extension": ".py",
      "mimetype": "text/x-python",
      "name": "python",
      "nbconvert_exporter": "python",
      "pygments_lexer": "ipython3",
      "version": "3.11.11"
    },
    "widgets": {
      "application/vnd.jupyter.widget-state+json": {
        "1eed8542c26840db81fbb4e85273221e": {
          "model_module": "@jupyter-widgets/controls",
          "model_name": "HBoxModel",
          "model_module_version": "1.5.0",
          "state": {
            "_dom_classes": [],
            "_model_module": "@jupyter-widgets/controls",
            "_model_module_version": "1.5.0",
            "_model_name": "HBoxModel",
            "_view_count": null,
            "_view_module": "@jupyter-widgets/controls",
            "_view_module_version": "1.5.0",
            "_view_name": "HBoxView",
            "box_style": "",
            "children": [
              "IPY_MODEL_574b2b4064794d5584cfe1764cadf7fc",
              "IPY_MODEL_e55033c3d3854eada8685a5492e6e0d7",
              "IPY_MODEL_034994725a5e449a9935cba3fddb4965"
            ],
            "layout": "IPY_MODEL_c8fa2dd4aa01415db8735fca49e6a2e7"
          }
        },
        "574b2b4064794d5584cfe1764cadf7fc": {
          "model_module": "@jupyter-widgets/controls",
          "model_name": "HTMLModel",
          "model_module_version": "1.5.0",
          "state": {
            "_dom_classes": [],
            "_model_module": "@jupyter-widgets/controls",
            "_model_module_version": "1.5.0",
            "_model_name": "HTMLModel",
            "_view_count": null,
            "_view_module": "@jupyter-widgets/controls",
            "_view_module_version": "1.5.0",
            "_view_name": "HTMLView",
            "description": "",
            "description_tooltip": null,
            "layout": "IPY_MODEL_a6205ca7923e4a508b50695f68289465",
            "placeholder": "​",
            "style": "IPY_MODEL_bea0f06c96084849b6fb46bb9d4841da",
            "value": "100%"
          }
        },
        "e55033c3d3854eada8685a5492e6e0d7": {
          "model_module": "@jupyter-widgets/controls",
          "model_name": "FloatProgressModel",
          "model_module_version": "1.5.0",
          "state": {
            "_dom_classes": [],
            "_model_module": "@jupyter-widgets/controls",
            "_model_module_version": "1.5.0",
            "_model_name": "FloatProgressModel",
            "_view_count": null,
            "_view_module": "@jupyter-widgets/controls",
            "_view_module_version": "1.5.0",
            "_view_name": "ProgressView",
            "bar_style": "success",
            "description": "",
            "description_tooltip": null,
            "layout": "IPY_MODEL_95882534df384f73a3647267ea1b6da6",
            "max": 20,
            "min": 0,
            "orientation": "horizontal",
            "style": "IPY_MODEL_6d3ae6a319e04e32a7f954874f3ba6a2",
            "value": 20
          }
        },
        "034994725a5e449a9935cba3fddb4965": {
          "model_module": "@jupyter-widgets/controls",
          "model_name": "HTMLModel",
          "model_module_version": "1.5.0",
          "state": {
            "_dom_classes": [],
            "_model_module": "@jupyter-widgets/controls",
            "_model_module_version": "1.5.0",
            "_model_name": "HTMLModel",
            "_view_count": null,
            "_view_module": "@jupyter-widgets/controls",
            "_view_module_version": "1.5.0",
            "_view_name": "HTMLView",
            "description": "",
            "description_tooltip": null,
            "layout": "IPY_MODEL_c652b6360ff1426a8d33f04862222799",
            "placeholder": "​",
            "style": "IPY_MODEL_7ddf912a8b17405bb1bb33426cd92527",
            "value": " 20/20 [00:32&lt;00:00,  1.28s/it]"
          }
        },
        "c8fa2dd4aa01415db8735fca49e6a2e7": {
          "model_module": "@jupyter-widgets/base",
          "model_name": "LayoutModel",
          "model_module_version": "1.2.0",
          "state": {
            "_model_module": "@jupyter-widgets/base",
            "_model_module_version": "1.2.0",
            "_model_name": "LayoutModel",
            "_view_count": null,
            "_view_module": "@jupyter-widgets/base",
            "_view_module_version": "1.2.0",
            "_view_name": "LayoutView",
            "align_content": null,
            "align_items": null,
            "align_self": null,
            "border": null,
            "bottom": null,
            "display": null,
            "flex": null,
            "flex_flow": null,
            "grid_area": null,
            "grid_auto_columns": null,
            "grid_auto_flow": null,
            "grid_auto_rows": null,
            "grid_column": null,
            "grid_gap": null,
            "grid_row": null,
            "grid_template_areas": null,
            "grid_template_columns": null,
            "grid_template_rows": null,
            "height": null,
            "justify_content": null,
            "justify_items": null,
            "left": null,
            "margin": null,
            "max_height": null,
            "max_width": null,
            "min_height": null,
            "min_width": null,
            "object_fit": null,
            "object_position": null,
            "order": null,
            "overflow": null,
            "overflow_x": null,
            "overflow_y": null,
            "padding": null,
            "right": null,
            "top": null,
            "visibility": null,
            "width": null
          }
        },
        "a6205ca7923e4a508b50695f68289465": {
          "model_module": "@jupyter-widgets/base",
          "model_name": "LayoutModel",
          "model_module_version": "1.2.0",
          "state": {
            "_model_module": "@jupyter-widgets/base",
            "_model_module_version": "1.2.0",
            "_model_name": "LayoutModel",
            "_view_count": null,
            "_view_module": "@jupyter-widgets/base",
            "_view_module_version": "1.2.0",
            "_view_name": "LayoutView",
            "align_content": null,
            "align_items": null,
            "align_self": null,
            "border": null,
            "bottom": null,
            "display": null,
            "flex": null,
            "flex_flow": null,
            "grid_area": null,
            "grid_auto_columns": null,
            "grid_auto_flow": null,
            "grid_auto_rows": null,
            "grid_column": null,
            "grid_gap": null,
            "grid_row": null,
            "grid_template_areas": null,
            "grid_template_columns": null,
            "grid_template_rows": null,
            "height": null,
            "justify_content": null,
            "justify_items": null,
            "left": null,
            "margin": null,
            "max_height": null,
            "max_width": null,
            "min_height": null,
            "min_width": null,
            "object_fit": null,
            "object_position": null,
            "order": null,
            "overflow": null,
            "overflow_x": null,
            "overflow_y": null,
            "padding": null,
            "right": null,
            "top": null,
            "visibility": null,
            "width": null
          }
        },
        "bea0f06c96084849b6fb46bb9d4841da": {
          "model_module": "@jupyter-widgets/controls",
          "model_name": "DescriptionStyleModel",
          "model_module_version": "1.5.0",
          "state": {
            "_model_module": "@jupyter-widgets/controls",
            "_model_module_version": "1.5.0",
            "_model_name": "DescriptionStyleModel",
            "_view_count": null,
            "_view_module": "@jupyter-widgets/base",
            "_view_module_version": "1.2.0",
            "_view_name": "StyleView",
            "description_width": ""
          }
        },
        "95882534df384f73a3647267ea1b6da6": {
          "model_module": "@jupyter-widgets/base",
          "model_name": "LayoutModel",
          "model_module_version": "1.2.0",
          "state": {
            "_model_module": "@jupyter-widgets/base",
            "_model_module_version": "1.2.0",
            "_model_name": "LayoutModel",
            "_view_count": null,
            "_view_module": "@jupyter-widgets/base",
            "_view_module_version": "1.2.0",
            "_view_name": "LayoutView",
            "align_content": null,
            "align_items": null,
            "align_self": null,
            "border": null,
            "bottom": null,
            "display": null,
            "flex": null,
            "flex_flow": null,
            "grid_area": null,
            "grid_auto_columns": null,
            "grid_auto_flow": null,
            "grid_auto_rows": null,
            "grid_column": null,
            "grid_gap": null,
            "grid_row": null,
            "grid_template_areas": null,
            "grid_template_columns": null,
            "grid_template_rows": null,
            "height": null,
            "justify_content": null,
            "justify_items": null,
            "left": null,
            "margin": null,
            "max_height": null,
            "max_width": null,
            "min_height": null,
            "min_width": null,
            "object_fit": null,
            "object_position": null,
            "order": null,
            "overflow": null,
            "overflow_x": null,
            "overflow_y": null,
            "padding": null,
            "right": null,
            "top": null,
            "visibility": null,
            "width": null
          }
        },
        "6d3ae6a319e04e32a7f954874f3ba6a2": {
          "model_module": "@jupyter-widgets/controls",
          "model_name": "ProgressStyleModel",
          "model_module_version": "1.5.0",
          "state": {
            "_model_module": "@jupyter-widgets/controls",
            "_model_module_version": "1.5.0",
            "_model_name": "ProgressStyleModel",
            "_view_count": null,
            "_view_module": "@jupyter-widgets/base",
            "_view_module_version": "1.2.0",
            "_view_name": "StyleView",
            "bar_color": null,
            "description_width": ""
          }
        },
        "c652b6360ff1426a8d33f04862222799": {
          "model_module": "@jupyter-widgets/base",
          "model_name": "LayoutModel",
          "model_module_version": "1.2.0",
          "state": {
            "_model_module": "@jupyter-widgets/base",
            "_model_module_version": "1.2.0",
            "_model_name": "LayoutModel",
            "_view_count": null,
            "_view_module": "@jupyter-widgets/base",
            "_view_module_version": "1.2.0",
            "_view_name": "LayoutView",
            "align_content": null,
            "align_items": null,
            "align_self": null,
            "border": null,
            "bottom": null,
            "display": null,
            "flex": null,
            "flex_flow": null,
            "grid_area": null,
            "grid_auto_columns": null,
            "grid_auto_flow": null,
            "grid_auto_rows": null,
            "grid_column": null,
            "grid_gap": null,
            "grid_row": null,
            "grid_template_areas": null,
            "grid_template_columns": null,
            "grid_template_rows": null,
            "height": null,
            "justify_content": null,
            "justify_items": null,
            "left": null,
            "margin": null,
            "max_height": null,
            "max_width": null,
            "min_height": null,
            "min_width": null,
            "object_fit": null,
            "object_position": null,
            "order": null,
            "overflow": null,
            "overflow_x": null,
            "overflow_y": null,
            "padding": null,
            "right": null,
            "top": null,
            "visibility": null,
            "width": null
          }
        },
        "7ddf912a8b17405bb1bb33426cd92527": {
          "model_module": "@jupyter-widgets/controls",
          "model_name": "DescriptionStyleModel",
          "model_module_version": "1.5.0",
          "state": {
            "_model_module": "@jupyter-widgets/controls",
            "_model_module_version": "1.5.0",
            "_model_name": "DescriptionStyleModel",
            "_view_count": null,
            "_view_module": "@jupyter-widgets/base",
            "_view_module_version": "1.2.0",
            "_view_name": "StyleView",
            "description_width": ""
          }
        }
      }
    }
  },
  "nbformat": 4,
  "nbformat_minor": 0
}