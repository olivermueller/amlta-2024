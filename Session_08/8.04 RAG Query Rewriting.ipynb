{
  "cells": [
    {
      "cell_type": "markdown",
      "metadata": {
        "id": "DAu-kSJo_wBW"
      },
      "source": [
        "# <font color=\"#003660\">Applied Machine Learning for Text Analysis (M.184.5331)</font>\n"
      ]
    },
    {
      "cell_type": "markdown",
      "metadata": {
        "id": "BkW_65l0_wBX"
      },
      "source": [
        "# <font color=\"#003660\">Session 8: Retrieval-Augmented Generation</font>"
      ]
    },
    {
      "cell_type": "markdown",
      "metadata": {
        "id": "O2TLZqw4_wBX"
      },
      "source": [
        "# <font color=\"#003660\">Rewriting</font>\n",
        "\n",
        "<center><br><img width=256 src=\"https://raw.githubusercontent.com/olivermueller/aml4ta-2021/main/resources/dag.png\"/><br></center>\n",
        "\n",
        "<p>\n",
        "\n",
        "<div>\n",
        "    <font color=\"#085986\"><b>By the end of this lesson, you ...</b><br><br>\n",
        "        ... will know how to implement query rewriting, especially rewrite-retrieve-read. <br>\n",
        "        ... will know how to implement chains the \"langchain\" style.\n",
        "    </font>\n",
        "</div>\n",
        "</p>"
      ]
    },
    {
      "cell_type": "markdown",
      "metadata": {},
      "source": [
        "The following content is heavily inspired by the following excellent sources:\n",
        "\n",
        "* [HuggingFace (2024): NLP Course](https://huggingface.co/learn/nlp-course/)\n",
        "* [Huggingface (2024): Open-Source AI Cookbook](https://huggingface.co/learn/cookbook/index)\n",
        "* [LangChain API Reference (2024)](https://python.langchain.com/api_reference/reference.html)\n",
        "* [LangChain Docs (2024)](https://python.langchain.com/docs/introduction/)\n",
        "* [LangChain AI (2024) Cookbook](https://github.com/langchain-ai/langchain/blob/master/cookbook/rewrite.ipynb?ref=blog.langchain.dev)"
      ]
    },
    {
      "cell_type": "markdown",
      "metadata": {
        "id": "34keYSjZBNn5"
      },
      "source": [
        "# Rewriting\n",
        "\n",
        "![](https://github.com/olivermueller/amlta-2024/blob/main/Session_08/imgs/rag_extensions.png?raw=true)\n",
        "\n",
        "(Source: ([Wang et al., 2024](https://doi.org/10.18653/v1/2024.emnlp-main.981)))\n",
        "\n",
        "There are multiple ways to improve RAG architectures as summarized by [Wang et al. (2024)](https://doi.org/10.18653/v1/2024.emnlp-main.981).\n",
        "\n",
        "This lecture focuses on rewriting."
      ]
    },
    {
      "cell_type": "code",
      "execution_count": null,
      "metadata": {
        "colab": {
          "base_uri": "https://localhost:8080/"
        },
        "id": "iOpbL_52BNn5",
        "outputId": "dc5decf0-40cb-40dc-b585-4ed2f4a2033b"
      },
      "outputs": [],
      "source": [
        "!pip install -U pymupdf4llm datasets transformers faiss-cpu sentence-transformers accelerate langchain langchain-community langchain-huggingface"
      ]
    },
    {
      "cell_type": "code",
      "execution_count": 43,
      "metadata": {
        "id": "3DDqf0AsEBqn"
      },
      "outputs": [],
      "source": [
        "import os\n",
        "import re\n",
        "from tqdm.notebook import tqdm\n",
        "import pymupdf4llm\n",
        "import urllib\n",
        "\n",
        "from IPython.display import display, Markdown\n",
        "\n",
        "from transformers import AutoTokenizer, set_seed\n",
        "from langchain_text_splitters import RecursiveCharacterTextSplitter\n",
        "from langchain_huggingface.embeddings import HuggingFaceEmbeddings\n",
        "from langchain_community.vectorstores import FAISS\n",
        "from langchain import hub\n",
        "from langchain_huggingface import HuggingFacePipeline\n",
        "\n",
        "from langchain.retrievers import ContextualCompressionRetriever\n",
        "from langchain.retrievers.document_compressors import CrossEncoderReranker\n",
        "from langchain_community.cross_encoders import HuggingFaceCrossEncoder\n",
        "\n",
        "from langchain_core.output_parsers import StrOutputParser\n",
        "from langchain_core.prompts import ChatPromptTemplate\n",
        "from langchain_core.runnables import RunnablePassthrough\n",
        "\n",
        "DEVICE = \"cuda\""
      ]
    },
    {
      "cell_type": "code",
      "execution_count": null,
      "metadata": {},
      "outputs": [],
      "source": [
        "os.mkdir(\"documents\")\n",
        "os.mkdir(\"imgs\")\n",
        "os.mkdir(\"markdown_documents\")\n",
        "urllib.request.urlretrieve(\"https://github.com/olivermueller/amlta-2024/tree/main/Session_08/documents/Game_of_Thrones.pdf\", \"documents/Game_of_Thrones.pdf\")\n",
        "urllib.request.urlretrieve(\"https://github.com/olivermueller/amlta-2024/tree/main/Session_08/documents/How_I_Met_Your_Mother.pdf\", \"documents/How_I_Met_Your_Mother.pdf\")\n",
        "urllib.request.urlretrieve(\"https://github.com/olivermueller/amlta-2024/tree/main/Session_08/markdown_documents/Game_of_Thrones.md\", \"markdown_documents/Game_of_Thrones.md\")\n",
        "urllib.request.urlretrieve(\"https://github.com/olivermueller/amlta-2024/tree/main/Session_08/markdown_documents/How_I_Met_Your_Mother.md\", \"markdown_documents/How_I_Met_Your_Mother.md\")"
      ]
    },
    {
      "cell_type": "code",
      "execution_count": 2,
      "metadata": {
        "id": "1sTx1W9OnjTr"
      },
      "outputs": [],
      "source": [
        "RETRIEVER_NAME = \"jinaai/jina-embeddings-v2-base-en\"\n",
        "GENERATOR_NAME = \"Qwen/Qwen2.5-1.5B-Instruct\""
      ]
    },
    {
      "cell_type": "markdown",
      "metadata": {
        "id": "uf8WGDmVBNn6"
      },
      "source": [
        "# Loading Documents"
      ]
    },
    {
      "cell_type": "code",
      "execution_count": 3,
      "metadata": {
        "id": "VuFfbkDCB24j"
      },
      "outputs": [],
      "source": [
        "markdown_documents_path = \"markdown_documents\""
      ]
    },
    {
      "cell_type": "code",
      "execution_count": 4,
      "metadata": {},
      "outputs": [],
      "source": [
        "def remove_markdown_links(text):\n",
        "    \"\"\"\n",
        "    Removes Markdown links from the given text while keeping the link text.\n",
        "    \n",
        "    Args:\n",
        "        text (str): The input Markdown text.\n",
        "        \n",
        "    Returns:\n",
        "        str: The text with Markdown links removed. \n",
        "    \n",
        "    Yeah this was ChatGPT ;)\n",
        "    \"\"\"\n",
        "    # Regex to match Markdown links [text](link)\n",
        "    pattern = r'\\[([^\\]]+)\\]\\([^\\)]+\\)'\n",
        "    # Replace the matched pattern with just the text inside the brackets\n",
        "    cleaned_text = re.sub(pattern, r'\\1', text)\n",
        "    return cleaned_text"
      ]
    },
    {
      "cell_type": "code",
      "execution_count": 5,
      "metadata": {},
      "outputs": [],
      "source": [
        "markdown_documents = os.listdir(markdown_documents_path)\n",
        "\n",
        "md_files = []\n",
        "\n",
        "for markdown_document in markdown_documents:\n",
        "    markdown_document_path = os.path.join(markdown_documents_path, markdown_document)\n",
        "    with open(markdown_document_path) as file:\n",
        "        md_files.append([markdown_document, remove_markdown_links(file.read())])"
      ]
    },
    {
      "cell_type": "markdown",
      "metadata": {
        "id": "f0HDJx72BNn6"
      },
      "source": [
        "# Our original chain (Just another query)"
      ]
    },
    {
      "cell_type": "code",
      "execution_count": 6,
      "metadata": {},
      "outputs": [],
      "source": [
        "embedding_tokenizer = AutoTokenizer.from_pretrained(RETRIEVER_NAME, use_fast=False)\n",
        "text_splitter = RecursiveCharacterTextSplitter.from_huggingface_tokenizer(\n",
        "    embedding_tokenizer, \n",
        "    chunk_size=512, \n",
        "    chunk_overlap=32,\n",
        "    separators=[\n",
        "        \"# \",\n",
        "        \"## \",\n",
        "        \"### \",\n",
        "        \"#### \",\n",
        "        \"##### \",\n",
        "        \"###### \",\n",
        "        \"\\n\\n\",\n",
        "        \"\\n\",\n",
        "        \" \",\n",
        "    ],\n",
        "    keep_separator=True\n",
        ")\n",
        "all_splits = text_splitter.create_documents(\n",
        "    texts=[x[1] for x in md_files], \n",
        "    metadatas=[{\"source\": x[0]} for x in md_files],\n",
        ")"
      ]
    },
    {
      "cell_type": "code",
      "execution_count": null,
      "metadata": {},
      "outputs": [],
      "source": [
        "retriever_model = HuggingFaceEmbeddings(\n",
        "    model_name=RETRIEVER_NAME, \n",
        "    model_kwargs={'device': DEVICE, \"trust_remote_code\": True}, \n",
        "    encode_kwargs={'normalize_embeddings': True}\n",
        ")\n",
        "db = FAISS.from_documents(\n",
        "    all_splits, \n",
        "    embedding=retriever_model\n",
        ")\n",
        "retriever = db.as_retriever()"
      ]
    },
    {
      "cell_type": "code",
      "execution_count": null,
      "metadata": {},
      "outputs": [],
      "source": [
        "llm = HuggingFacePipeline.from_model_id(\n",
        "    model_id=GENERATOR_NAME, \n",
        "    task=\"text-generation\", \n",
        "    pipeline_kwargs={\"return_full_text\": False}\n",
        ")"
      ]
    },
    {
      "cell_type": "code",
      "execution_count": null,
      "metadata": {},
      "outputs": [],
      "source": [
        "prompt = hub.pull(\"rlm/rag-prompt\")\n",
        "print(prompt.messages[0].prompt.template)"
      ]
    },
    {
      "cell_type": "code",
      "execution_count": 12,
      "metadata": {},
      "outputs": [],
      "source": [
        "chain = (\n",
        "    {\"context\": retriever, \"question\": RunnablePassthrough()}\n",
        "    | prompt\n",
        "    | llm\n",
        "    | StrOutputParser()\n",
        ")"
      ]
    },
    {
      "cell_type": "code",
      "execution_count": null,
      "metadata": {},
      "outputs": [],
      "source": [
        "chain.invoke(\"I loooove Naomi Watts! Who plays Daenerys Targaryen?\")"
      ]
    },
    {
      "cell_type": "markdown",
      "metadata": {},
      "source": [
        "As illustrated above, distracting LLMs is really easy. But how to prevent this?"
      ]
    },
    {
      "cell_type": "markdown",
      "metadata": {},
      "source": [
        "# Implementing a rewriter with Rewrite-Retrieve-Read\n",
        "\n",
        "To improve the answer, we can also use query rewriting. This simply means that we pass the query (or prompt) directly to the LLM with a prompt to rewrite the question before answering it. This can prevent potential biases and can help to improve answer accuracy.\n",
        "\n",
        "We will now implement Rewrite-Retrieve-Read (RRR) as a strategy, introduced by [Ma et al. (2023)](https://aclanthology.org/2023.emnlp-main.322/). (Besides RRR there are diverse other methods which are easily explained in this [LangChain blog post](https://blog.langchain.dev/query-transformations/))."
      ]
    },
    {
      "cell_type": "code",
      "execution_count": null,
      "metadata": {},
      "outputs": [],
      "source": [
        "set_seed(0)\n",
        "template = \"\"\"REWRITE the question! Start your rewritten question with REWRITTEN:. Question: {x} REWRITTEN:\"\"\" # Original prompt that wasn't working with the small LLM was this: \"\"\"Provide a better search query for web search engine to answer the given question, end the queries with ’**’. Question: {x} Answer:\"\"\"\n",
        "rewrite_prompt = ChatPromptTemplate.from_template(template)\n",
        "def _parse(text):\n",
        "    return text.strip('\"').split(\"REWRITTEN:\")[-1]\n",
        "rewriter = rewrite_prompt | llm | StrOutputParser() | _parse\n",
        "rewriter.invoke({\"x\": \"I loooove Naomi Watts! Who plays Daenerys Targaryen?\"})"
      ]
    },
    {
      "cell_type": "markdown",
      "metadata": {},
      "source": [
        "# The updated chain"
      ]
    },
    {
      "cell_type": "code",
      "execution_count": null,
      "metadata": {},
      "outputs": [],
      "source": [
        "set_seed(0)\n",
        "rewrite_retrieve_read_chain = (\n",
        "    {\n",
        "        \"context\": {\"x\": RunnablePassthrough()} | rewriter | retriever,\n",
        "        \"question\": RunnablePassthrough(),\n",
        "    }\n",
        "    | prompt\n",
        "    | llm\n",
        "    | StrOutputParser()\n",
        ")\n",
        "rewrite_retrieve_read_chain.invoke(\"I loooove Naomi Watts! Who plays Daenerys Targaryen?\")"
      ]
    },
    {
      "cell_type": "markdown",
      "metadata": {},
      "source": [
        "# Want to learn more stuff about RAG with LangChain?\n",
        "\n",
        "* [LangChain RAG from scratch](https://github.com/langchain-ai/rag-from-scratch)\n",
        "* [LangChain Cookbook](https://python.langchain.com/docs/introduction/)"
      ]
    }
  ],
  "metadata": {
    "accelerator": "GPU",
    "colab": {
      "gpuType": "A100",
      "machine_shape": "hm",
      "provenance": []
    },
    "kernelspec": {
      "display_name": "aml4ta",
      "language": "python",
      "name": "python3"
    },
    "language_info": {
      "codemirror_mode": {
        "name": "ipython",
        "version": 3
      },
      "file_extension": ".py",
      "mimetype": "text/x-python",
      "name": "python",
      "nbconvert_exporter": "python",
      "pygments_lexer": "ipython3",
      "version": "3.11.11"
    },
    "widgets": {
      "application/vnd.jupyter.widget-state+json": {
        "02312a152f55445dae86003ee71f4659": {
          "model_module": "@jupyter-widgets/controls",
          "model_module_version": "1.5.0",
          "model_name": "HBoxModel",
          "state": {
            "_dom_classes": [],
            "_model_module": "@jupyter-widgets/controls",
            "_model_module_version": "1.5.0",
            "_model_name": "HBoxModel",
            "_view_count": null,
            "_view_module": "@jupyter-widgets/controls",
            "_view_module_version": "1.5.0",
            "_view_name": "HBoxView",
            "box_style": "",
            "children": [
              "IPY_MODEL_3b561c32d4d140c5b4d258afada93396",
              "IPY_MODEL_2b64e5a9433c4e94aae678e8913615d4",
              "IPY_MODEL_62f53d04f3634a03b776fdbbfc084a4d"
            ],
            "layout": "IPY_MODEL_b05dc476ef9240ca9b936caf63ab3727"
          }
        },
        "27544349234c41e1ac3ce0484ae6ab16": {
          "model_module": "@jupyter-widgets/base",
          "model_module_version": "1.2.0",
          "model_name": "LayoutModel",
          "state": {
            "_model_module": "@jupyter-widgets/base",
            "_model_module_version": "1.2.0",
            "_model_name": "LayoutModel",
            "_view_count": null,
            "_view_module": "@jupyter-widgets/base",
            "_view_module_version": "1.2.0",
            "_view_name": "LayoutView",
            "align_content": null,
            "align_items": null,
            "align_self": null,
            "border": null,
            "bottom": null,
            "display": null,
            "flex": null,
            "flex_flow": null,
            "grid_area": null,
            "grid_auto_columns": null,
            "grid_auto_flow": null,
            "grid_auto_rows": null,
            "grid_column": null,
            "grid_gap": null,
            "grid_row": null,
            "grid_template_areas": null,
            "grid_template_columns": null,
            "grid_template_rows": null,
            "height": null,
            "justify_content": null,
            "justify_items": null,
            "left": null,
            "margin": null,
            "max_height": null,
            "max_width": null,
            "min_height": null,
            "min_width": null,
            "object_fit": null,
            "object_position": null,
            "order": null,
            "overflow": null,
            "overflow_x": null,
            "overflow_y": null,
            "padding": null,
            "right": null,
            "top": null,
            "visibility": null,
            "width": null
          }
        },
        "2b64e5a9433c4e94aae678e8913615d4": {
          "model_module": "@jupyter-widgets/controls",
          "model_module_version": "1.5.0",
          "model_name": "FloatProgressModel",
          "state": {
            "_dom_classes": [],
            "_model_module": "@jupyter-widgets/controls",
            "_model_module_version": "1.5.0",
            "_model_name": "FloatProgressModel",
            "_view_count": null,
            "_view_module": "@jupyter-widgets/controls",
            "_view_module_version": "1.5.0",
            "_view_name": "ProgressView",
            "bar_style": "success",
            "description": "",
            "description_tooltip": null,
            "layout": "IPY_MODEL_27544349234c41e1ac3ce0484ae6ab16",
            "max": 443,
            "min": 0,
            "orientation": "horizontal",
            "style": "IPY_MODEL_c86e08eb90cf4653a7bef03b0fda9f03",
            "value": 443
          }
        },
        "2cff53cb86ed41c287b97c7c0359b761": {
          "model_module": "@jupyter-widgets/controls",
          "model_module_version": "1.5.0",
          "model_name": "DescriptionStyleModel",
          "state": {
            "_model_module": "@jupyter-widgets/controls",
            "_model_module_version": "1.5.0",
            "_model_name": "DescriptionStyleModel",
            "_view_count": null,
            "_view_module": "@jupyter-widgets/base",
            "_view_module_version": "1.2.0",
            "_view_name": "StyleView",
            "description_width": ""
          }
        },
        "3b561c32d4d140c5b4d258afada93396": {
          "model_module": "@jupyter-widgets/controls",
          "model_module_version": "1.5.0",
          "model_name": "HTMLModel",
          "state": {
            "_dom_classes": [],
            "_model_module": "@jupyter-widgets/controls",
            "_model_module_version": "1.5.0",
            "_model_name": "HTMLModel",
            "_view_count": null,
            "_view_module": "@jupyter-widgets/controls",
            "_view_module_version": "1.5.0",
            "_view_name": "HTMLView",
            "description": "",
            "description_tooltip": null,
            "layout": "IPY_MODEL_cf923a66c44545a0b4986300c6850962",
            "placeholder": "​",
            "style": "IPY_MODEL_ac09e1d0f1404f5aa03be4c0414b6fd7",
            "value": "100%"
          }
        },
        "62f53d04f3634a03b776fdbbfc084a4d": {
          "model_module": "@jupyter-widgets/controls",
          "model_module_version": "1.5.0",
          "model_name": "HTMLModel",
          "state": {
            "_dom_classes": [],
            "_model_module": "@jupyter-widgets/controls",
            "_model_module_version": "1.5.0",
            "_model_name": "HTMLModel",
            "_view_count": null,
            "_view_module": "@jupyter-widgets/controls",
            "_view_module_version": "1.5.0",
            "_view_name": "HTMLView",
            "description": "",
            "description_tooltip": null,
            "layout": "IPY_MODEL_b14a9dedce904d5c8c9eac2f5319c171",
            "placeholder": "​",
            "style": "IPY_MODEL_2cff53cb86ed41c287b97c7c0359b761",
            "value": " 443/443 [00:07&lt;00:00, 61.93it/s]"
          }
        },
        "ac09e1d0f1404f5aa03be4c0414b6fd7": {
          "model_module": "@jupyter-widgets/controls",
          "model_module_version": "1.5.0",
          "model_name": "DescriptionStyleModel",
          "state": {
            "_model_module": "@jupyter-widgets/controls",
            "_model_module_version": "1.5.0",
            "_model_name": "DescriptionStyleModel",
            "_view_count": null,
            "_view_module": "@jupyter-widgets/base",
            "_view_module_version": "1.2.0",
            "_view_name": "StyleView",
            "description_width": ""
          }
        },
        "b05dc476ef9240ca9b936caf63ab3727": {
          "model_module": "@jupyter-widgets/base",
          "model_module_version": "1.2.0",
          "model_name": "LayoutModel",
          "state": {
            "_model_module": "@jupyter-widgets/base",
            "_model_module_version": "1.2.0",
            "_model_name": "LayoutModel",
            "_view_count": null,
            "_view_module": "@jupyter-widgets/base",
            "_view_module_version": "1.2.0",
            "_view_name": "LayoutView",
            "align_content": null,
            "align_items": null,
            "align_self": null,
            "border": null,
            "bottom": null,
            "display": null,
            "flex": null,
            "flex_flow": null,
            "grid_area": null,
            "grid_auto_columns": null,
            "grid_auto_flow": null,
            "grid_auto_rows": null,
            "grid_column": null,
            "grid_gap": null,
            "grid_row": null,
            "grid_template_areas": null,
            "grid_template_columns": null,
            "grid_template_rows": null,
            "height": null,
            "justify_content": null,
            "justify_items": null,
            "left": null,
            "margin": null,
            "max_height": null,
            "max_width": null,
            "min_height": null,
            "min_width": null,
            "object_fit": null,
            "object_position": null,
            "order": null,
            "overflow": null,
            "overflow_x": null,
            "overflow_y": null,
            "padding": null,
            "right": null,
            "top": null,
            "visibility": null,
            "width": null
          }
        },
        "b14a9dedce904d5c8c9eac2f5319c171": {
          "model_module": "@jupyter-widgets/base",
          "model_module_version": "1.2.0",
          "model_name": "LayoutModel",
          "state": {
            "_model_module": "@jupyter-widgets/base",
            "_model_module_version": "1.2.0",
            "_model_name": "LayoutModel",
            "_view_count": null,
            "_view_module": "@jupyter-widgets/base",
            "_view_module_version": "1.2.0",
            "_view_name": "LayoutView",
            "align_content": null,
            "align_items": null,
            "align_self": null,
            "border": null,
            "bottom": null,
            "display": null,
            "flex": null,
            "flex_flow": null,
            "grid_area": null,
            "grid_auto_columns": null,
            "grid_auto_flow": null,
            "grid_auto_rows": null,
            "grid_column": null,
            "grid_gap": null,
            "grid_row": null,
            "grid_template_areas": null,
            "grid_template_columns": null,
            "grid_template_rows": null,
            "height": null,
            "justify_content": null,
            "justify_items": null,
            "left": null,
            "margin": null,
            "max_height": null,
            "max_width": null,
            "min_height": null,
            "min_width": null,
            "object_fit": null,
            "object_position": null,
            "order": null,
            "overflow": null,
            "overflow_x": null,
            "overflow_y": null,
            "padding": null,
            "right": null,
            "top": null,
            "visibility": null,
            "width": null
          }
        },
        "c86e08eb90cf4653a7bef03b0fda9f03": {
          "model_module": "@jupyter-widgets/controls",
          "model_module_version": "1.5.0",
          "model_name": "ProgressStyleModel",
          "state": {
            "_model_module": "@jupyter-widgets/controls",
            "_model_module_version": "1.5.0",
            "_model_name": "ProgressStyleModel",
            "_view_count": null,
            "_view_module": "@jupyter-widgets/base",
            "_view_module_version": "1.2.0",
            "_view_name": "StyleView",
            "bar_color": null,
            "description_width": ""
          }
        },
        "cf923a66c44545a0b4986300c6850962": {
          "model_module": "@jupyter-widgets/base",
          "model_module_version": "1.2.0",
          "model_name": "LayoutModel",
          "state": {
            "_model_module": "@jupyter-widgets/base",
            "_model_module_version": "1.2.0",
            "_model_name": "LayoutModel",
            "_view_count": null,
            "_view_module": "@jupyter-widgets/base",
            "_view_module_version": "1.2.0",
            "_view_name": "LayoutView",
            "align_content": null,
            "align_items": null,
            "align_self": null,
            "border": null,
            "bottom": null,
            "display": null,
            "flex": null,
            "flex_flow": null,
            "grid_area": null,
            "grid_auto_columns": null,
            "grid_auto_flow": null,
            "grid_auto_rows": null,
            "grid_column": null,
            "grid_gap": null,
            "grid_row": null,
            "grid_template_areas": null,
            "grid_template_columns": null,
            "grid_template_rows": null,
            "height": null,
            "justify_content": null,
            "justify_items": null,
            "left": null,
            "margin": null,
            "max_height": null,
            "max_width": null,
            "min_height": null,
            "min_width": null,
            "object_fit": null,
            "object_position": null,
            "order": null,
            "overflow": null,
            "overflow_x": null,
            "overflow_y": null,
            "padding": null,
            "right": null,
            "top": null,
            "visibility": null,
            "width": null
          }
        }
      }
    }
  },
  "nbformat": 4,
  "nbformat_minor": 0
}
