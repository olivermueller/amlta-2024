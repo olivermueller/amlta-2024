{
  "cells": [
    {
      "cell_type": "markdown",
      "metadata": {
        "id": "DAu-kSJo_wBW"
      },
      "source": [
        "# <font color=\"#003660\">Applied Machine Learning for Text Analysis (M.184.5331)</font>\n"
      ]
    },
    {
      "cell_type": "markdown",
      "metadata": {
        "id": "BkW_65l0_wBX"
      },
      "source": [
        "# <font color=\"#003660\">Session 8: Retrieval-Augmented Generation</font>"
      ]
    },
    {
      "cell_type": "markdown",
      "metadata": {
        "id": "O2TLZqw4_wBX"
      },
      "source": [
        "# <font color=\"#003660\">Reranking</font>\n",
        "\n",
        "<center><br><img width=256 src=\"https://raw.githubusercontent.com/olivermueller/aml4ta-2021/main/resources/dag.png\"/><br></center>\n",
        "\n",
        "<p>\n",
        "\n",
        "<div>\n",
        "    <font color=\"#085986\"><b>By the end of this lesson, you ...</b><br><br>\n",
        "        ... will know how to implement reranking methods using langchain. <br>\n",
        "        ... will know hot to implement langchain chains on your own.\n",
        "    </font>\n",
        "</div>\n",
        "</p>"
      ]
    },
    {
      "cell_type": "markdown",
      "metadata": {},
      "source": [
        "The following content is heavily inspired by the following excellent sources:\n",
        "\n",
        "* [HuggingFace (2024): NLP Course](https://huggingface.co/learn/nlp-course/)\n",
        "* [Huggingface (2024): Open-Source AI Cookbook](https://huggingface.co/learn/cookbook/index)\n",
        "* [LangChain API Reference (2024)](https://python.langchain.com/api_reference/reference.html)\n",
        "* [LangChain Docs (2024)](https://python.langchain.com/docs/introduction/)\n",
        "* [LangChain AI (2024) Cookbook](https://github.com/langchain-ai/langchain/blob/master/cookbook/rewrite.ipynb?ref=blog.langchain.dev)"
      ]
    },
    {
      "cell_type": "markdown",
      "metadata": {
        "id": "34keYSjZBNn5"
      },
      "source": [
        "# Reranking\n",
        "\n",
        "![](https://github.com/olivermueller/amlta-2024/blob/main/Session_08/imgs/rag_extensions.png?raw=true)\n",
        "\n",
        "(Source: ([Wang et al., 2024](https://doi.org/10.18653/v1/2024.emnlp-main.981)))\n",
        "\n",
        "There are multiple ways to improve RAG architectures as summarized by [Wang et al. (2024)](https://doi.org/10.18653/v1/2024.emnlp-main.981).\n",
        "\n",
        "This lecture focuses on reranking."
      ]
    },
    {
      "cell_type": "code",
      "execution_count": null,
      "metadata": {
        "colab": {
          "base_uri": "https://localhost:8080/"
        },
        "id": "iOpbL_52BNn5",
        "outputId": "dc5decf0-40cb-40dc-b585-4ed2f4a2033b"
      },
      "outputs": [],
      "source": [
        "!pip install -U pymupdf4llm datasets transformers faiss-cpu sentence-transformers accelerate langchain langchain-community langchain-huggingface"
      ]
    },
    {
      "cell_type": "code",
      "execution_count": 1,
      "metadata": {
        "id": "3DDqf0AsEBqn"
      },
      "outputs": [],
      "source": [
        "import os\n",
        "import re\n",
        "from tqdm.notebook import tqdm\n",
        "import pymupdf4llm\n",
        "import urllib\n",
        "\n",
        "from IPython.display import display, Markdown\n",
        "\n",
        "from transformers import AutoTokenizer\n",
        "from langchain_text_splitters import RecursiveCharacterTextSplitter\n",
        "from langchain_huggingface.embeddings import HuggingFaceEmbeddings\n",
        "from langchain_community.vectorstores import FAISS\n",
        "from langchain import hub\n",
        "from langchain_huggingface import HuggingFacePipeline\n",
        "\n",
        "from langchain.retrievers import ContextualCompressionRetriever\n",
        "from langchain.retrievers.document_compressors import CrossEncoderReranker\n",
        "from langchain_community.cross_encoders import HuggingFaceCrossEncoder\n",
        "from langchain.retrievers import ContextualCompressionRetriever\n",
        "from langchain.retrievers.document_compressors import FlashrankRerank\n",
        "\n",
        "DEVICE = \"cuda\""
      ]
    },
    {
      "cell_type": "code",
      "execution_count": null,
      "metadata": {},
      "outputs": [],
      "source": [
        "os.mkdir(\"documents\")\n",
        "os.mkdir(\"imgs\")\n",
        "os.mkdir(\"markdown_documents\")\n",
        "urllib.request.urlretrieve(\"https://raw.githubusercontent.com/olivermueller/amlta-2024/refs/heads/main/Session_08/documents/Game_of_Thrones.pdf\", \"documents/Game_of_Thrones.pdf\")\n",
        "urllib.request.urlretrieve(\"https://raw.githubusercontent.com/olivermueller/amlta-2024/refs/heads/main/Session_08/documents/How_I_Met_Your_Mother.pdf\", \"documents/How_I_Met_Your_Mother.pdf\")\n",
        "urllib.request.urlretrieve(\"https://raw.githubusercontent.com/olivermueller/amlta-2024/refs/heads/main/Session_08/markdown_documents/Game_of_Thrones.md\", \"markdown_documents/Game_of_Thrones.md\")\n",
        "urllib.request.urlretrieve(\"https://raw.githubusercontent.com/olivermueller/amlta-2024/refs/heads/main/Session_08/markdown_documents/How_I_Met_Your_Mother.md\", \"markdown_documents/How_I_Met_Your_Mother.md\")"
      ]
    },
    {
      "cell_type": "code",
      "execution_count": 2,
      "metadata": {
        "id": "1sTx1W9OnjTr"
      },
      "outputs": [],
      "source": [
        "RETRIEVER_NAME = \"jinaai/jina-embeddings-v2-base-en\"\n",
        "GENERATOR_NAME = \"Qwen/Qwen2.5-1.5B-Instruct\""
      ]
    },
    {
      "cell_type": "markdown",
      "metadata": {
        "id": "uf8WGDmVBNn6"
      },
      "source": [
        "# Loading Documents"
      ]
    },
    {
      "cell_type": "code",
      "execution_count": 3,
      "metadata": {
        "id": "VuFfbkDCB24j"
      },
      "outputs": [],
      "source": [
        "markdown_documents_path = \"markdown_documents\""
      ]
    },
    {
      "cell_type": "code",
      "execution_count": 4,
      "metadata": {},
      "outputs": [],
      "source": [
        "def remove_markdown_links(text):\n",
        "    \"\"\"\n",
        "    Removes Markdown links from the given text while keeping the link text.\n",
        "    \n",
        "    Args:\n",
        "        text (str): The input Markdown text.\n",
        "        \n",
        "    Returns:\n",
        "        str: The text with Markdown links removed. \n",
        "    \n",
        "    Yeah this was ChatGPT ;)\n",
        "    \"\"\"\n",
        "    # Regex to match Markdown links [text](link)\n",
        "    pattern = r'\\[([^\\]]+)\\]\\([^\\)]+\\)'\n",
        "    # Replace the matched pattern with just the text inside the brackets\n",
        "    cleaned_text = re.sub(pattern, r'\\1', text)\n",
        "    return cleaned_text"
      ]
    },
    {
      "cell_type": "code",
      "execution_count": 5,
      "metadata": {},
      "outputs": [],
      "source": [
        "markdown_documents = os.listdir(markdown_documents_path)\n",
        "\n",
        "md_files = []\n",
        "\n",
        "for markdown_document in markdown_documents:\n",
        "    markdown_document_path = os.path.join(markdown_documents_path, markdown_document)\n",
        "    with open(markdown_document_path) as file:\n",
        "        md_files.append([markdown_document, remove_markdown_links(file.read())])"
      ]
    },
    {
      "cell_type": "markdown",
      "metadata": {
        "id": "f0HDJx72BNn6"
      },
      "source": [
        "# Original Chain"
      ]
    },
    {
      "cell_type": "code",
      "execution_count": 6,
      "metadata": {},
      "outputs": [],
      "source": [
        "embedding_tokenizer = AutoTokenizer.from_pretrained(RETRIEVER_NAME, use_fast=False)\n",
        "text_splitter = RecursiveCharacterTextSplitter.from_huggingface_tokenizer(\n",
        "    embedding_tokenizer, \n",
        "    chunk_size=512, \n",
        "    chunk_overlap=32,\n",
        "    separators=[\n",
        "        \"# \",\n",
        "        \"## \",\n",
        "        \"### \",\n",
        "        \"#### \",\n",
        "        \"##### \",\n",
        "        \"###### \",\n",
        "        \"\\n\\n\",\n",
        "        \"\\n\",\n",
        "        \" \",\n",
        "    ],\n",
        "    keep_separator=True\n",
        ")\n",
        "all_splits = text_splitter.create_documents(\n",
        "    texts=[x[1] for x in md_files], \n",
        "    metadatas=[{\"source\": x[0]} for x in md_files],   \n",
        ")"
      ]
    },
    {
      "cell_type": "code",
      "execution_count": 7,
      "metadata": {},
      "outputs": [],
      "source": [
        "retriever_model = HuggingFaceEmbeddings(\n",
        "    model_name=RETRIEVER_NAME, \n",
        "    model_kwargs={'device': DEVICE, \"trust_remote_code\": True},\n",
        "    encode_kwargs={'normalize_embeddings': True}\n",
        ")\n",
        "db = FAISS.from_documents(\n",
        "    all_splits, \n",
        "    embedding=retriever_model\n",
        ")\n",
        "retriever = db.as_retriever()"
      ]
    },
    {
      "cell_type": "code",
      "execution_count": null,
      "metadata": {},
      "outputs": [],
      "source": [
        "llm = HuggingFacePipeline.from_model_id(\n",
        "    model_id=GENERATOR_NAME, \n",
        "    task=\"text-generation\", \n",
        "    pipeline_kwargs={\"return_full_text\": False}\n",
        ")"
      ]
    },
    {
      "cell_type": "code",
      "execution_count": null,
      "metadata": {},
      "outputs": [],
      "source": [
        "prompt = hub.pull(\"rlm/rag-prompt\")\n",
        "print(prompt.messages[0].prompt.template)"
      ]
    },
    {
      "cell_type": "markdown",
      "metadata": {},
      "source": [
        "## New CrossEncoder Reranker"
      ]
    },
    {
      "cell_type": "markdown",
      "metadata": {},
      "source": [
        "![](https://raw.githubusercontent.com/UKPLab/sentence-transformers/master/docs/img/Bi_vs_Cross-Encoder.png)\n",
        "\n",
        "Source: ([SBERT.net (2024)](https://www.sbert.net/examples/applications/cross-encoder/README.html))\n",
        "\n",
        "Cross-Encoder Rerankers output a numerical value between 0 and 1 and can be used to determine the similarity between two sentences (chunks). While they are not compute efficient on large-scale tasks such as clustering they can improve RAG systems by ranking the reranking the chunks by their query-similarity ([Reimers and Gurevych](https://doi.org/10.48550/arXiv.1908.10084))."
      ]
    },
    {
      "cell_type": "code",
      "execution_count": null,
      "metadata": {},
      "outputs": [],
      "source": [
        "model = HuggingFaceCrossEncoder(model_name=\"BAAI/bge-reranker-base\")\n",
        "compressor = CrossEncoderReranker(model=model, top_n=3)\n",
        "compression_retriever = ContextualCompressionRetriever(\n",
        "    base_compressor=compressor, base_retriever=retriever\n",
        ")"
      ]
    },
    {
      "cell_type": "code",
      "execution_count": null,
      "metadata": {},
      "outputs": [],
      "source": [
        "print([x.id for x in retriever.invoke(\"Who plays Daenerys Targaryen?\")])\n",
        "print([x.id for x in compression_retriever.invoke(\"Who plays Daenerys Targaryen?\")])"
      ]
    },
    {
      "cell_type": "code",
      "execution_count": 1,
      "metadata": {},
      "outputs": [],
      "source": [
        "def invoke_reranking_rag_chain(question, retriever_type=\"basic\"):\n",
        "    if retriever_type == \"basic\":\n",
        "        retrieved_docs = retriever.invoke(question)\n",
        "    elif retriever_type == \"compression\":\n",
        "        # TODO: implement compression retriever in here\n",
        "        pass\n",
        "    elif retriever_type == \"flash\":\n",
        "        # TODO: Implement Flash retriever\n",
        "\n",
        "        # IMPORTANT: wont work because of versioning problems in FlashrankRank        \n",
        "\n",
        "        # your code here\n",
        "        pass\n",
        "\n",
        "    else:\n",
        "        raise NotImplementedError(\"No other retrievers implemented yet.\")\n",
        "    for doc in retrieved_docs:\n",
        "        display(Markdown(f\"### {doc.metadata['source']}\"))\n",
        "        display(Markdown(doc.page_content))\n",
        "    print(\"#\" * 50)\n",
        "    input_prompt = prompt.invoke({\"question\": question, \"context\": \"\\n\\n\".join(doc.page_content for doc in retrieved_docs)})\n",
        "    answer = llm.invoke(input_prompt)\n",
        "    return answer"
      ]
    },
    {
      "cell_type": "code",
      "execution_count": null,
      "metadata": {},
      "outputs": [],
      "source": [
        "question = \"Who plays Daenerys Targaryen?\"\n",
        "answer = invoke_reranking_rag_chain(question, \"basic\")\n",
        "print(\"Answer:\", answer)"
      ]
    },
    {
      "cell_type": "code",
      "execution_count": null,
      "metadata": {},
      "outputs": [],
      "source": [
        "question = \"Who plays Daenerys Targaryen?\"\n",
        "answer = invoke_reranking_rag_chain(question, \"compression\")\n",
        "print(\"Answer:\", answer)"
      ]
    },
    {
      "cell_type": "markdown",
      "metadata": {},
      "source": [
        "## Flash Retriever\n",
        "Now try the FlashRank by yourself:\n",
        "* [Damodaran, P. (2023). FlashRank GitHub](https://github.com/PrithivirajDamodaran/FlashRank)\n",
        "* [LangChain Docs](https://python.langchain.com/docs/integrations/retrievers/flashrank-reranker/)"
      ]
    },
    {
      "cell_type": "code",
      "execution_count": 19,
      "metadata": {},
      "outputs": [],
      "source": [
        "# TODO: Implement Flash retriever\n",
        "\n",
        "# your code here\n",
        "\n",
        "\n"
      ]
    },
    {
      "cell_type": "code",
      "execution_count": null,
      "metadata": {},
      "outputs": [],
      "source": [
        "def invoke_reranking_rag_chain(question, retriever_type=\"basic\"):\n",
        "    if retriever_type == \"basic\":\n",
        "        retrieved_docs = retriever.invoke(question)\n",
        "    elif retriever_type == \"compression\":\n",
        "        retrieved_docs = compression_retriever.invoke(question, top_k=3)\n",
        "    elif retriever_type == \"flash\":\n",
        "        # TODO: Implement Flash retriever\n",
        "        \n",
        "\n",
        "        # your code here\n",
        "        pass\n",
        "\n",
        "    else:\n",
        "        raise NotImplementedError(\"No other retrievers implemented yet.\")\n",
        "    for doc in retrieved_docs:\n",
        "        display(Markdown(f\"### {doc.metadata['source']}\"))\n",
        "        display(Markdown(doc.page_content))\n",
        "    print(\"#\" * 50)\n",
        "    input_prompt = prompt.invoke({\"question\": question, \"context\": \"\\n\\n\".join(doc.page_content for doc in retrieved_docs)})\n",
        "    answer = llm.invoke(input_prompt)\n",
        "    return answer"
      ]
    }
  ],
  "metadata": {
    "accelerator": "GPU",
    "colab": {
      "gpuType": "A100",
      "machine_shape": "hm",
      "provenance": []
    },
    "kernelspec": {
      "display_name": "aml4ta",
      "language": "python",
      "name": "python3"
    },
    "language_info": {
      "codemirror_mode": {
        "name": "ipython",
        "version": 3
      },
      "file_extension": ".py",
      "mimetype": "text/x-python",
      "name": "python",
      "nbconvert_exporter": "python",
      "pygments_lexer": "ipython3",
      "version": "3.11.11"
    },
    "widgets": {
      "application/vnd.jupyter.widget-state+json": {
        "02312a152f55445dae86003ee71f4659": {
          "model_module": "@jupyter-widgets/controls",
          "model_module_version": "1.5.0",
          "model_name": "HBoxModel",
          "state": {
            "_dom_classes": [],
            "_model_module": "@jupyter-widgets/controls",
            "_model_module_version": "1.5.0",
            "_model_name": "HBoxModel",
            "_view_count": null,
            "_view_module": "@jupyter-widgets/controls",
            "_view_module_version": "1.5.0",
            "_view_name": "HBoxView",
            "box_style": "",
            "children": [
              "IPY_MODEL_3b561c32d4d140c5b4d258afada93396",
              "IPY_MODEL_2b64e5a9433c4e94aae678e8913615d4",
              "IPY_MODEL_62f53d04f3634a03b776fdbbfc084a4d"
            ],
            "layout": "IPY_MODEL_b05dc476ef9240ca9b936caf63ab3727"
          }
        },
        "27544349234c41e1ac3ce0484ae6ab16": {
          "model_module": "@jupyter-widgets/base",
          "model_module_version": "1.2.0",
          "model_name": "LayoutModel",
          "state": {
            "_model_module": "@jupyter-widgets/base",
            "_model_module_version": "1.2.0",
            "_model_name": "LayoutModel",
            "_view_count": null,
            "_view_module": "@jupyter-widgets/base",
            "_view_module_version": "1.2.0",
            "_view_name": "LayoutView",
            "align_content": null,
            "align_items": null,
            "align_self": null,
            "border": null,
            "bottom": null,
            "display": null,
            "flex": null,
            "flex_flow": null,
            "grid_area": null,
            "grid_auto_columns": null,
            "grid_auto_flow": null,
            "grid_auto_rows": null,
            "grid_column": null,
            "grid_gap": null,
            "grid_row": null,
            "grid_template_areas": null,
            "grid_template_columns": null,
            "grid_template_rows": null,
            "height": null,
            "justify_content": null,
            "justify_items": null,
            "left": null,
            "margin": null,
            "max_height": null,
            "max_width": null,
            "min_height": null,
            "min_width": null,
            "object_fit": null,
            "object_position": null,
            "order": null,
            "overflow": null,
            "overflow_x": null,
            "overflow_y": null,
            "padding": null,
            "right": null,
            "top": null,
            "visibility": null,
            "width": null
          }
        },
        "2b64e5a9433c4e94aae678e8913615d4": {
          "model_module": "@jupyter-widgets/controls",
          "model_module_version": "1.5.0",
          "model_name": "FloatProgressModel",
          "state": {
            "_dom_classes": [],
            "_model_module": "@jupyter-widgets/controls",
            "_model_module_version": "1.5.0",
            "_model_name": "FloatProgressModel",
            "_view_count": null,
            "_view_module": "@jupyter-widgets/controls",
            "_view_module_version": "1.5.0",
            "_view_name": "ProgressView",
            "bar_style": "success",
            "description": "",
            "description_tooltip": null,
            "layout": "IPY_MODEL_27544349234c41e1ac3ce0484ae6ab16",
            "max": 443,
            "min": 0,
            "orientation": "horizontal",
            "style": "IPY_MODEL_c86e08eb90cf4653a7bef03b0fda9f03",
            "value": 443
          }
        },
        "2cff53cb86ed41c287b97c7c0359b761": {
          "model_module": "@jupyter-widgets/controls",
          "model_module_version": "1.5.0",
          "model_name": "DescriptionStyleModel",
          "state": {
            "_model_module": "@jupyter-widgets/controls",
            "_model_module_version": "1.5.0",
            "_model_name": "DescriptionStyleModel",
            "_view_count": null,
            "_view_module": "@jupyter-widgets/base",
            "_view_module_version": "1.2.0",
            "_view_name": "StyleView",
            "description_width": ""
          }
        },
        "3b561c32d4d140c5b4d258afada93396": {
          "model_module": "@jupyter-widgets/controls",
          "model_module_version": "1.5.0",
          "model_name": "HTMLModel",
          "state": {
            "_dom_classes": [],
            "_model_module": "@jupyter-widgets/controls",
            "_model_module_version": "1.5.0",
            "_model_name": "HTMLModel",
            "_view_count": null,
            "_view_module": "@jupyter-widgets/controls",
            "_view_module_version": "1.5.0",
            "_view_name": "HTMLView",
            "description": "",
            "description_tooltip": null,
            "layout": "IPY_MODEL_cf923a66c44545a0b4986300c6850962",
            "placeholder": "​",
            "style": "IPY_MODEL_ac09e1d0f1404f5aa03be4c0414b6fd7",
            "value": "100%"
          }
        },
        "62f53d04f3634a03b776fdbbfc084a4d": {
          "model_module": "@jupyter-widgets/controls",
          "model_module_version": "1.5.0",
          "model_name": "HTMLModel",
          "state": {
            "_dom_classes": [],
            "_model_module": "@jupyter-widgets/controls",
            "_model_module_version": "1.5.0",
            "_model_name": "HTMLModel",
            "_view_count": null,
            "_view_module": "@jupyter-widgets/controls",
            "_view_module_version": "1.5.0",
            "_view_name": "HTMLView",
            "description": "",
            "description_tooltip": null,
            "layout": "IPY_MODEL_b14a9dedce904d5c8c9eac2f5319c171",
            "placeholder": "​",
            "style": "IPY_MODEL_2cff53cb86ed41c287b97c7c0359b761",
            "value": " 443/443 [00:07&lt;00:00, 61.93it/s]"
          }
        },
        "ac09e1d0f1404f5aa03be4c0414b6fd7": {
          "model_module": "@jupyter-widgets/controls",
          "model_module_version": "1.5.0",
          "model_name": "DescriptionStyleModel",
          "state": {
            "_model_module": "@jupyter-widgets/controls",
            "_model_module_version": "1.5.0",
            "_model_name": "DescriptionStyleModel",
            "_view_count": null,
            "_view_module": "@jupyter-widgets/base",
            "_view_module_version": "1.2.0",
            "_view_name": "StyleView",
            "description_width": ""
          }
        },
        "b05dc476ef9240ca9b936caf63ab3727": {
          "model_module": "@jupyter-widgets/base",
          "model_module_version": "1.2.0",
          "model_name": "LayoutModel",
          "state": {
            "_model_module": "@jupyter-widgets/base",
            "_model_module_version": "1.2.0",
            "_model_name": "LayoutModel",
            "_view_count": null,
            "_view_module": "@jupyter-widgets/base",
            "_view_module_version": "1.2.0",
            "_view_name": "LayoutView",
            "align_content": null,
            "align_items": null,
            "align_self": null,
            "border": null,
            "bottom": null,
            "display": null,
            "flex": null,
            "flex_flow": null,
            "grid_area": null,
            "grid_auto_columns": null,
            "grid_auto_flow": null,
            "grid_auto_rows": null,
            "grid_column": null,
            "grid_gap": null,
            "grid_row": null,
            "grid_template_areas": null,
            "grid_template_columns": null,
            "grid_template_rows": null,
            "height": null,
            "justify_content": null,
            "justify_items": null,
            "left": null,
            "margin": null,
            "max_height": null,
            "max_width": null,
            "min_height": null,
            "min_width": null,
            "object_fit": null,
            "object_position": null,
            "order": null,
            "overflow": null,
            "overflow_x": null,
            "overflow_y": null,
            "padding": null,
            "right": null,
            "top": null,
            "visibility": null,
            "width": null
          }
        },
        "b14a9dedce904d5c8c9eac2f5319c171": {
          "model_module": "@jupyter-widgets/base",
          "model_module_version": "1.2.0",
          "model_name": "LayoutModel",
          "state": {
            "_model_module": "@jupyter-widgets/base",
            "_model_module_version": "1.2.0",
            "_model_name": "LayoutModel",
            "_view_count": null,
            "_view_module": "@jupyter-widgets/base",
            "_view_module_version": "1.2.0",
            "_view_name": "LayoutView",
            "align_content": null,
            "align_items": null,
            "align_self": null,
            "border": null,
            "bottom": null,
            "display": null,
            "flex": null,
            "flex_flow": null,
            "grid_area": null,
            "grid_auto_columns": null,
            "grid_auto_flow": null,
            "grid_auto_rows": null,
            "grid_column": null,
            "grid_gap": null,
            "grid_row": null,
            "grid_template_areas": null,
            "grid_template_columns": null,
            "grid_template_rows": null,
            "height": null,
            "justify_content": null,
            "justify_items": null,
            "left": null,
            "margin": null,
            "max_height": null,
            "max_width": null,
            "min_height": null,
            "min_width": null,
            "object_fit": null,
            "object_position": null,
            "order": null,
            "overflow": null,
            "overflow_x": null,
            "overflow_y": null,
            "padding": null,
            "right": null,
            "top": null,
            "visibility": null,
            "width": null
          }
        },
        "c86e08eb90cf4653a7bef03b0fda9f03": {
          "model_module": "@jupyter-widgets/controls",
          "model_module_version": "1.5.0",
          "model_name": "ProgressStyleModel",
          "state": {
            "_model_module": "@jupyter-widgets/controls",
            "_model_module_version": "1.5.0",
            "_model_name": "ProgressStyleModel",
            "_view_count": null,
            "_view_module": "@jupyter-widgets/base",
            "_view_module_version": "1.2.0",
            "_view_name": "StyleView",
            "bar_color": null,
            "description_width": ""
          }
        },
        "cf923a66c44545a0b4986300c6850962": {
          "model_module": "@jupyter-widgets/base",
          "model_module_version": "1.2.0",
          "model_name": "LayoutModel",
          "state": {
            "_model_module": "@jupyter-widgets/base",
            "_model_module_version": "1.2.0",
            "_model_name": "LayoutModel",
            "_view_count": null,
            "_view_module": "@jupyter-widgets/base",
            "_view_module_version": "1.2.0",
            "_view_name": "LayoutView",
            "align_content": null,
            "align_items": null,
            "align_self": null,
            "border": null,
            "bottom": null,
            "display": null,
            "flex": null,
            "flex_flow": null,
            "grid_area": null,
            "grid_auto_columns": null,
            "grid_auto_flow": null,
            "grid_auto_rows": null,
            "grid_column": null,
            "grid_gap": null,
            "grid_row": null,
            "grid_template_areas": null,
            "grid_template_columns": null,
            "grid_template_rows": null,
            "height": null,
            "justify_content": null,
            "justify_items": null,
            "left": null,
            "margin": null,
            "max_height": null,
            "max_width": null,
            "min_height": null,
            "min_width": null,
            "object_fit": null,
            "object_position": null,
            "order": null,
            "overflow": null,
            "overflow_x": null,
            "overflow_y": null,
            "padding": null,
            "right": null,
            "top": null,
            "visibility": null,
            "width": null
          }
        }
      }
    }
  },
  "nbformat": 4,
  "nbformat_minor": 0
}
